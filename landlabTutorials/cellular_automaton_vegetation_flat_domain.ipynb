{
 "cells": [
  {
   "cell_type": "markdown",
   "metadata": {},
   "source": [
    "<a href=\"http://landlab.github.io\"><img style=\"float: left\" src=\"https://raw.githubusercontent.com/landlab/tutorials/master/landlab_header.png\"></a>"
   ]
  },
  {
   "cell_type": "markdown",
   "metadata": {},
   "source": [
    "### Tutorial For Cellular Automaton Vegetation Model Coupled With Ecohydrologic Model"
   ]
  },
  {
   "cell_type": "markdown",
   "metadata": {},
   "source": [
    "<hr>\n",
    "<small> For instructions on how to run an interactive iPython notebook, click here: <a href=\"https://github.com/landlab/tutorials/blob/master/README.md\">https://github.com/landlab/tutorials/blob/master/README.md</a></small><br>\n",
    "<small>For the unexpanded version to download and run, click here: <a href=\"http://nbviewer.jupyter.org/github/landlab/tutorials/blob/master/ecohydrology/cellular_automaton_vegetation_DEM/cellular_automaton_vegetation_DEM_unexpanded.ipynb\">http://nbviewer.jupyter.org/github/landlab/tutorials/blob/master/ecohydrology/cellular_automaton_vegetation_DEM/cellular_automaton_vegetation_DEM_unexpanded.ipynb</a></small><br>\n",
    "<small>For more Landlab tutorials, click here: <a href=\"https://github.com/landlab/landlab/wiki/Tutorials\">https://github.com/landlab/landlab/wiki/Tutorials</a></small>\n",
    "<hr>"
   ]
  },
  {
   "cell_type": "markdown",
   "metadata": {},
   "source": [
    "This tutorial demonstrates implementation of the Cellular Automaton Tree-GRass-Shrub Simulator (CATGRaSS) [Zhou et al., 2013] on a flat domain. This model is built using components from the Landlab component library. CATGRaSS is spatially explicit model of plant coexistence. It simulates local ecohydrologic dynamics (soil moisture, transpiration, biomass) and spatial evolution of tree, grass, and shrub Plant Functional Types (PFT) driven by rainfall and solar radiation. \n",
    "\n",
    "Each cell in the model grid can hold a single PFT or remain empty. Tree and shrub plants disperse seeds to their neighbors. Grass seeds are assumed to be available at each cell. Establishment of plants in empty cells is determined probabilistically based on water stress of each PFT. Plants with lower water stress have higher probability of establishment. Plant mortality is simulated probabilistically as a result of aging and drought stress. Fires and grazing will be added to this model soon.  \n",
    "\n",
    "This model (driver) contains:\n",
    "  - A local vegetation dynamics model that simulates storm and inter-storm water balance and ecohydrologic fluxes (ET, runoff), and plant biomass dynamics by coupling the following components:\n",
    "        - PrecipitationDistribution\n",
    "        - Radiation\n",
    "        - PotentialEvapotranspiration\n",
    "        - SoilMoisture\n",
    "        - Vegetation\n",
    "\n",
    "  - A spatially explicit probabilistic cellular automaton component that simulates plant competition by tracking establishment and mortality of plants based on soil moisture stress:\n",
    "        - VegCA\n",
    "    \n",
    "To run this Jupyter notebook, please make sure that the following files are in the same folder:\n",
    "        - cellular_automaton_vegetation_flat_domain.ipynb (this notebook)\n",
    "        - Inputs_Vegetation_CA.txt (Input parameters for the model)\n",
    "        - Ecohyd_functions_flat.py (Utility functions)\n",
    "\n",
    "[Ref: Zhou, X, E. Istanbulluoglu, and E.R. Vivoni. \"Modeling the ecohydrological role of aspect-controlled radiation on tree-grass-shrub coexistence in a semiarid climate.\" Water Resources Research 49.5 (2013): 2872-2895]\n"
   ]
  },
  {
   "cell_type": "markdown",
   "metadata": {},
   "source": [
    "In this tutorial, we are going to work with a landscape in central New Mexico, USA, where aspect controls the organization of PFTs. The climate in this area is semi-arid with Mean Annual Precipitation (MAP) of 254 mm [Zhou et. al 2013]. \n",
    "We will do the following: \n",
    "- Import a landscape \n",
    "- Initialize the landscape with random distribution of PFTs\n",
    "- Run the coupled Ecohydrology and cellular automata plant competition model for 50 years\n",
    "- Visualize and examine outputs"
   ]
  },
  {
   "cell_type": "markdown",
   "metadata": {},
   "source": [
    "#### Let us walk through the code:"
   ]
  },
  {
   "cell_type": "markdown",
   "metadata": {},
   "source": [
    "Import the required libraries"
   ]
  },
  {
   "cell_type": "code",
   "execution_count": 1,
   "metadata": {
    "collapsed": false
   },
   "outputs": [
    {
     "name": "stderr",
     "output_type": "stream",
     "text": [
      "C:\\Users\\Amanda\\Anaconda3\\lib\\site-packages\\matplotlib\\__init__.py:1401: UserWarning:  This call to matplotlib.use() has no effect\n",
      "because the backend has already been chosen;\n",
      "matplotlib.use() must be called *before* pylab, matplotlib.pyplot,\n",
      "or matplotlib.backends is imported for the first time.\n",
      "\n",
      "  warnings.warn(_use_error_msg)\n"
     ]
    }
   ],
   "source": [
    "%matplotlib inline\n",
    "import time\n",
    "import numpy as np\n",
    "from landlab import RasterModelGrid as rmg\n",
    "from Ecohyd_functions_flat import (txt_data_dict, Initialize_, Empty_arrays,\n",
    "                                   Create_PET_lookup, Save_, Plot_)"
   ]
  },
  {
   "cell_type": "markdown",
   "metadata": {},
   "source": [
    "Note: 'Ecohyd_functions_flat.py' is a utility script that contains 'functions', which instantiates components and manages inputs and outputs, and help keep this driver concise. Contents of 'Ecohyd_functions_flat.py' can be a part of this driver (current file), however left out to keep driver concise."
   ]
  },
  {
   "cell_type": "markdown",
   "metadata": {},
   "source": [
    "To minimize computation time, we will use two grids in this driver. One grid will represent a flat landscape or domain (i.e., landscape with same elevation), on which the cellular automata plant competition will be simulated at an yearly time step. Another grid, with enough cells to house one cell for each of the plant functional types (PFTs), will be used to simulate soil moisture decay and local vegetation dynamics, in between successive storms (i.e. time step = one storm). Cumulative water stress (stress experienced by plants due to lack of enough soil moisture) will be calculated over an year and mapped to the other grid.\n",
    "\n",
    "- grid: This grid represents the actual landscape. Each cell can be occupied by a single PFT such as tree, shrub, grass, or can be empty (bare). Initial PFT distribution is randomnly generated from inputs of percentage of cells occupied by each PFT.\n",
    "\n",
    "- grid1: This grid allows us to calculate PFT specific cumulative water stress (cumulated over each storm in the year) and mapped with 'grid'.\n",
    "\n",
    "Note: In this tutorial, the physical ecohydrological components and cellular automata plant competition will be run on grids with different resolution. To use grids with same resolution, see the tutorial 'cellular_automaton_vegetation_DEM.ipynb'."
   ]
  },
  {
   "cell_type": "code",
   "execution_count": 2,
   "metadata": {
    "collapsed": false
   },
   "outputs": [],
   "source": [
    "grid1 = rmg((100, 100), spacing=(5., 5.))\n",
    "grid = rmg((5, 4), spacing=(5., 5.))"
   ]
  },
  {
   "cell_type": "markdown",
   "metadata": {},
   "source": [
    "Include the input file that contains all input parameters needed for all components. This file can either be a python dictionary or a text file that can be converted into a python dictionary. If a text file is provided, it will be converted to a Python dictionary. Here we use an existing text file prepared for this exercise."
   ]
  },
  {
   "cell_type": "code",
   "execution_count": 3,
   "metadata": {
    "collapsed": false
   },
   "outputs": [
    {
     "name": "stdout",
     "output_type": "stream",
     "text": [
      "{'kdd_bare': 0.013, 'PET_dormancy_threshold': 6.8, 'VEGTYPE_bare': 3, 'percent_bare_initial': 0.7, 'ksg_grass': 0.012, 'Pemaxsh': 0.2, 'zr_shrub': 0.5, 'PmbShrub': 0.03, 'cd_shrub': 0.01, 'intercept_cap_tree': 2.0, 'cd_grass': 0.009, 'fc_bare': 0.56, 'n_long_flat': 660000, 'wp_shrub': 0.13, 'MeanTmaxF_grass': 5.15, 'sc_shrub': 0.24, 'cb_shrub': 0.004, 'zr_grass': 0.3, 'PmbTree': 0.01, 'Tdmax': 10.0, 'percent_shrub_initial': 0.1, 'cb_grass': 0.0047, 'sc_bare': 0.33, 'mean_storm_depth_wet': 4.79, 'pc_grass': 0.43, 'wp_bare': 0.13, 'LAIR_max_shrub': 2.0, 'MeanTmaxF_shrub': 3.77, 'intercept_cap_grass': 1.0, 'runon': 0.0, 'sc_tree': 0.22, 'hgw_bare': 0.1, 'hgw_shrub': 0.1, 'tpmaxShrubSeedling': 18, 'WUE_grass': 0.01, 'I_B_tree': 20.0, 'intercept_cap_shrub': 1.5, 'mean_storm_depth_dry': 3.07, 'WUE_tree': 0.0045, 'sc_grass': 0.33, 'LAI_max_shrub': 2.0, 'Bdead_init': 450.0, 'I_V_shrub': 40.0, 'wp_tree': 0.15, 'VEGTYPE_shrub': 1, 'kdd_tree': 0.013, 'ThetaGrass': 0.62, 'kdd_shrub': 0.013, 'ThetaShrubSeedling': 0.64, 'LAI_max_bare': 0.01, 'beta_tree': 13.8, 'ThetaTree': 0.75, 'doy__end_of_monsoon': 273, 'kws_shrub': 0.02, 'cb_tree': 0.004, 'kws_grass': 0.02, 'ThetaShrub': 0.75, 'tpmaxTree': 350, 'ksg_shrub': 0.002, 'n_long_DEM': 1320, 'n_short': 6600, 'mean_storm_wet': 1.896, 'WUE_bare': 0.01, 'hgw_tree': 0.1, 'LAIR_max_tree': 4.0, 'cd_tree': 0.01, 'kws_bare': 0.02, 'Pemaxtr': 0.3, 'ksg_bare': 0.012, 'LAIR_max_grass': 2.88, 'ND': 365.0, 'I_B_grass': 20.0, 'I_V_tree': 40.0, 'intercept_cap_bare': 1.0, 'I_B_shrub': 20.0, 'ksg_tree': 0.002, 'beta_bare': 13.8, 'PmbTreeSeedling': 0.03, 'Blive_init': 102.0, 'tpmaxShrub': 600, 'I_V_bare': 20.0, 'mean_storm_dry': 2.016, 'cd_bare': 0.009, 'fc_tree': 0.56, 'kdd_grass': 0.013, 'I_V_grass': 24.0, 'hgw_grass': 0.1, 'pc_tree': 0.43, 'ThetaTreeSeedling': 0.64, 'LAI_max_tree': 4.0, 'I_B_bare': 20.0, 'PET_growth_threshold': 3.8, 'percent_tree_initial': 0.1, 'ING': 2, 'pc_bare': 0.43, 'MeanTmaxF_tree': 4.96, 'doy__start_of_monsoon': 182, 'DeltaD': 7.0, 'f_bare': 0.7, 'kws_tree': 0.01, 'PmbShrubSeedling': 0.03, 'w': 0.55, 'LT': 0, 'LAIR_max_bare': 0.01, 'Pemaxg': 0.35, 'beta_grass': 13.8, 'percent_grass_initial': 0.1, 'tpmaxTreeSeedling': 18, 'wp_grass': 0.13, 'PET_method': 'Cosine', 'mean_interstorm_wet': 84.24, 'cb_bare': 0.0047, 'WUE_shrub': 0.0025, 'zr_bare': 0.15, 'zr_tree': 1.3, 'beta_shrub': 13.8, 'VEGTYPE_tree': 2, 'VEGTYPE_grass': 0, 'LAI_max_grass': 2.0, 'fc_shrub': 0.56, 'PmbGrass': 0.05, 'pc_shrub': 0.43, 'mean_interstorm_dry': 159.36, 'fc_grass': 0.56}\n"
     ]
    }
   ],
   "source": [
    "InputFile = 'Inputs_Vegetation_CA_flat.txt'\n",
    "data = txt_data_dict(InputFile) # Create dictionary that holds the inputs\n",
    "\n",
    "print(data)"
   ]
  },
  {
   "cell_type": "markdown",
   "metadata": {},
   "source": [
    "Instantiate landlab components to simulate corresponding attributes. In this example, we shall demonstrate the use of seasonal rainfall and PFT-specific potential evapotranspiration. The instantiated objects are:\n",
    "- PD_D: object for dry season rainfall, \n",
    "- PD_W: object for wet season rainfall, \n",
    "- Rad: Radiation object computes radiation factor defined as the ratio of total shortwave radiation incident on a sloped surface to total shortwave radiation incident on a flat surface. Note: in this example a flat domain is considered. Radiation factor returned will be a cellular field of ones. This component is included because potential evaporanspiration (PET) component receives an input of radiation factor as a field.\n",
    "- PET_PFT: Plant specific PET objects. PET is upper boundary to ET. For long-term simulations PET is represented using a cosine function as a function of day of year. Parameters of this function were obtained from P-M model application at a weather station. PET is spatially distributed by using the radiation factor.\n",
    "- SM: Soil Moisture object simulates depth-averaged soil moisture at each cell using inputs of potential evapotranspiration, live leaf area index and vegetation cover.\n",
    "- VEG: Vegetation dynamics object simulates net primary productivity, biomass and leaf area index (LAI) at each cell based on inputs of root-zone average soil moisture.\n",
    "- vegca: Cellular Automaton plant competition object is run once every year. This object is initialized with a random cellular field of PFT. Every year, this object updates the cellular field of PFT based on probabilistic establishment and mortality of PFT at each cell.\n",
    "\n",
    "Note: Almost every component in landlab is coded as a 'class' (to harness the advantages of objective oriented programming). An 'object' is the instantiation of the 'class' (for more information, please refer any objective oriented programming book). A 'field' refers to a Landlab field (please refer to the [Landlab documentation](https://github.com/landlab/landlab/wiki/Grid#adding-data-to-a-landlab-grid-element-using-fields) to learn more about Landlab fields)."
   ]
  },
  {
   "cell_type": "markdown",
   "metadata": {},
   "source": [
    "Now let's instantiate all Landlab components that we are going to use for this tutorial:"
   ]
  },
  {
   "cell_type": "code",
   "execution_count": 4,
   "metadata": {
    "collapsed": false
   },
   "outputs": [],
   "source": [
    "PD_D, PD_W, Rad, PET_Tree, PET_Shrub, PET_Grass, SM, VEG, vegca = Initialize_(\n",
    "            data, grid, grid1)"
   ]
  },
  {
   "cell_type": "markdown",
   "metadata": {},
   "source": [
    "Lets look at the initial organization of PFTs"
   ]
  },
  {
   "cell_type": "code",
   "execution_count": 5,
   "metadata": {
    "collapsed": false
   },
   "outputs": [
    {
     "data": {
      "text/plain": [
       "<matplotlib.text.Text at 0x1e37a9d3a20>"
      ]
     },
     "execution_count": 5,
     "metadata": {},
     "output_type": "execute_result"
    },
    {
     "data": {
      "image/png": "[encoded data removed]",
      "text/plain": [
       "<matplotlib.figure.Figure at 0x1e37a9d3390>"
      ]
     },
     "metadata": {},
     "output_type": "display_data"
    }
   ],
   "source": [
    "import matplotlib.pyplot as plt\n",
    "from landlab.plot import imshow_grid\n",
    "import matplotlib as mpl\n",
    "cmap = mpl.colors.ListedColormap(\n",
    "            ['green', 'red', 'black', 'white', 'red', 'black'])\n",
    "bounds = [-0.5, 0.5, 1.5, 2.5, 3.5, 4.5, 5.5]\n",
    "norm = mpl.colors.BoundaryNorm(bounds, cmap.N)\n",
    "description = 'green: grass; red: shrub; black: tree; white: bare'\n",
    "plt.figure(101)\n",
    "imshow_grid(grid1, 'vegetation__plant_functional_type', values_at='cell', cmap=cmap,\n",
    "            grid_units=('m', 'm'), norm=norm, limits=[0, 5],\n",
    "            allow_colorbar=False)\n",
    "plt.figtext(0.2, 0.0, description,\n",
    "            weight='bold', fontsize=10)"
   ]
  },
  {
   "cell_type": "markdown",
   "metadata": {},
   "source": [
    "Specify an approximate number of years for the model to run. For this example, we will run the simulation for 600 years. It might take less than 2+ minutes to run."
   ]
  },
  {
   "cell_type": "code",
   "execution_count": 6,
   "metadata": {
    "collapsed": false
   },
   "outputs": [],
   "source": [
    "n_years = 600      # Approx number of years for model to run\n",
    "# Calculate approximate number of storms per year\n",
    "fraction_wet = (data['doy__end_of_monsoon']-data['doy__start_of_monsoon'])/365.\n",
    "fraction_dry = 1 - fraction_wet\n",
    "no_of_storms_wet = (8760 * (fraction_wet)/(data['mean_interstorm_wet'] +\n",
    "                    data['mean_storm_wet']))\n",
    "no_of_storms_dry = (8760 * (fraction_dry)/(data['mean_interstorm_dry'] +\n",
    "                    data['mean_storm_dry']))\n",
    "n = int(n_years * (no_of_storms_wet + no_of_storms_dry))"
   ]
  },
  {
   "cell_type": "markdown",
   "metadata": {},
   "source": [
    "Create empty arrays to store spatio-temporal data over multiple iterations. The captured data can be used for plotting model outputs."
   ]
  },
  {
   "cell_type": "code",
   "execution_count": 7,
   "metadata": {
    "collapsed": false
   },
   "outputs": [
    {
     "name": "stderr",
     "output_type": "stream",
     "text": [
      "C:\\Users\\Amanda\\Downloads\\Ecohyd_functions_flat.py:113: VisibleDeprecationWarning: using a non-integer number instead of an integer will result in an error in the future\n",
      "  VegType = np.empty([n/55, grid1.number_of_cells], dtype=int)\n"
     ]
    }
   ],
   "source": [
    "P, Tb, Tr, Time, VegType, PET_, Rad_Factor, EP30, PET_threshold = Empty_arrays(\n",
    "                n, grid, grid1)"
   ]
  },
  {
   "cell_type": "markdown",
   "metadata": {},
   "source": [
    "To reduce computational overhead, we shall create a lookup array for plant-specific PET values for each day of the year."
   ]
  },
  {
   "cell_type": "code",
   "execution_count": 8,
   "metadata": {
    "collapsed": false
   },
   "outputs": [],
   "source": [
    "Create_PET_lookup(Rad, PET_Tree, PET_Shrub, PET_Grass,  PET_, Rad_Factor,\n",
    "                  EP30, grid)"
   ]
  },
  {
   "cell_type": "markdown",
   "metadata": {},
   "source": [
    "Specify current_time (in years). current_time is the current time in the simulation."
   ]
  },
  {
   "cell_type": "code",
   "execution_count": 9,
   "metadata": {
    "collapsed": false
   },
   "outputs": [],
   "source": [
    "# # Represent current time in years\n",
    "current_time = 0            # Start from first day of Jan\n",
    "\n",
    "# Keep track of run time for simulation - optional\n",
    "Start_time = time.clock()     # Recording time taken for simulation\n",
    "\n",
    "# declaring few variables that will be used in the storm loop\n",
    "time_check = 0.     # Buffer to store current_time at previous storm\n",
    "yrs = 0             # Keep track of number of years passed\n",
    "WS = 0.             # Buffer for Water Stress\n",
    "Tg = 270        # Growing season in days"
   ]
  },
  {
   "cell_type": "markdown",
   "metadata": {},
   "source": [
    "The loop below couples the components introduced above in a for loop until all \"n\" number of storms are generated. Time is advanced by the soil moisture object based on storm and interstorm durations that are estimated by the strom generator object. The ecohydrologic model is run each storm whereas cellular automaton vegetation component is run once every year.\n",
    "\n",
    "Note: This loop might take less than 2 minutes (depending on your computer) to run for 600 year simulation. Ignore any warnings you might see."
   ]
  },
  {
   "cell_type": "code",
   "execution_count": 10,
   "metadata": {
    "collapsed": false
   },
   "outputs": [
    {
     "name": "stdout",
     "output_type": "stream",
     "text": [
      "Elapsed time =  0  years\n"
     ]
    },
    {
     "name": "stderr",
     "output_type": "stream",
     "text": [
      "C:\\Users\\Amanda\\Anaconda3\\lib\\site-packages\\landlab\\components\\plant_competition_ca\\plant_competition_ca.py:309: RuntimeWarning: divide by zero encountered in true_divide\n",
      "  Peg = np.amin(np.vstack((Phi_g/(n*self._INg), Pemaxg)), axis=0)\n",
      "C:\\Users\\Amanda\\Anaconda3\\lib\\site-packages\\numpy\\core\\_methods.py:59: RuntimeWarning: Mean of empty slice.\n",
      "  warnings.warn(\"Mean of empty slice.\", RuntimeWarning)\n",
      "C:\\Users\\Amanda\\Anaconda3\\lib\\site-packages\\numpy\\core\\_methods.py:70: RuntimeWarning: invalid value encountered in double_scalars\n",
      "  ret = ret.dtype.type(ret / rcount)\n",
      "C:\\Users\\Amanda\\Anaconda3\\lib\\site-packages\\landlab\\components\\plant_competition_ca\\plant_competition_ca.py:320: RuntimeWarning: invalid value encountered in greater_equal\n",
      "  np.greater_equal(Pest, R_Est) == True)[0])\n"
     ]
    },
    {
     "name": "stdout",
     "output_type": "stream",
     "text": [
      "Elapsed time =  100  years\n",
      "Elapsed time =  200  years\n",
      "Elapsed time =  300  years\n",
      "Elapsed time =  400  years\n",
      "Elapsed time =  500  years\n"
     ]
    }
   ],
   "source": [
    "# # Run storm Loop\n",
    "for i in range(0, n):\n",
    "    # Update objects\n",
    "\n",
    "    # Calculate Day of Year (DOY)\n",
    "    Julian = np.int(np.floor((current_time - np.floor(current_time)) * 365.))\n",
    "\n",
    "    # Generate seasonal storms\n",
    "    # for Dry season\n",
    "    if Julian < data['doy__start_of_monsoon'] or Julian > data[\n",
    "                        'doy__end_of_monsoon']:\n",
    "        PD_D.update()\n",
    "        P[i] = PD_D.storm_depth\n",
    "        Tr[i] = PD_D.storm_duration\n",
    "        Tb[i] = PD_D.interstorm_duration\n",
    "    # Wet Season - Jul to Sep - NA Monsoon\n",
    "    else:\n",
    "        PD_W.update()\n",
    "        P[i] = PD_W.storm_depth\n",
    "        Tr[i] = PD_W.storm_duration\n",
    "        Tb[i] = PD_W.interstorm_duration\n",
    "\n",
    "    # Spatially distribute PET and its 30-day-mean (analogous to degree day)\n",
    "    grid['cell']['surface__potential_evapotranspiration_rate'] = PET_[Julian]\n",
    "    grid['cell']['surface__potential_evapotranspiration_30day_mean'] = EP30[\n",
    "                Julian]\n",
    "\n",
    "    # Assign spatial rainfall data\n",
    "    grid['cell']['rainfall__daily'] = P[i] * np.ones(grid.number_of_cells)\n",
    "\n",
    "    # Update soil moisture component\n",
    "    current_time = SM.update(current_time, Tr=Tr[i], Tb=Tb[i])\n",
    "\n",
    "    # Decide whether its growing season or not\n",
    "    if Julian != 364:\n",
    "        if EP30[Julian+1, 0] > EP30[Julian, 0]:\n",
    "            PET_threshold = 1\n",
    "            # 1 corresponds to ETThresholdup (begin growing season)\n",
    "        else:\n",
    "            PET_threshold = 0\n",
    "            # 0 corresponds to ETThresholddown (end growing season)\n",
    "\n",
    "    # Update vegetation component\n",
    "    VEG.update(PETThreshold_switch=PET_threshold, Tb=Tb[i], Tr=Tr[i])\n",
    "\n",
    "    # Update yearly cumulative water stress data\n",
    "    WS += (grid['cell']['vegetation__water_stress'])*Tb[i]/24.\n",
    "\n",
    "    # Record time (optional)\n",
    "    Time[i] = current_time\n",
    "\n",
    "    # Update spatial PFTs with Cellular Automata rules\n",
    "    if (current_time - time_check) >= 1.:\n",
    "        if yrs % 100 == 0:\n",
    "            print('Elapsed time = ', yrs, ' years')\n",
    "        VegType[yrs] = grid1['cell']['vegetation__plant_functional_type']\n",
    "        WS_ = np.choose(VegType[yrs], WS)\n",
    "        grid1['cell']['vegetation__cumulative_water_stress'] = WS_/Tg\n",
    "        vegca.update()\n",
    "        time_check = current_time\n",
    "        WS = 0\n",
    "        yrs += 1\n",
    "\n",
    "VegType[yrs] = grid1['cell']['vegetation__plant_functional_type']"
   ]
  },
  {
   "cell_type": "markdown",
   "metadata": {},
   "source": [
    "Time_Consumed is an optional variable that gives information about computer running time"
   ]
  },
  {
   "cell_type": "code",
   "execution_count": 11,
   "metadata": {
    "collapsed": false
   },
   "outputs": [
    {
     "name": "stdout",
     "output_type": "stream",
     "text": [
      "Time_consumed =  1.8469709019799447  minutes\n"
     ]
    }
   ],
   "source": [
    "Final_time = time.clock()\n",
    "Time_Consumed = (Final_time - Start_time)/60.    # in minutes\n",
    "print('Time_consumed = ', Time_Consumed, ' minutes')"
   ]
  },
  {
   "cell_type": "markdown",
   "metadata": {},
   "source": [
    "Save the outputs using ``numpy.save()``. These files have '.nc' extension, which can be loaded using ``numpy.load()``."
   ]
  },
  {
   "cell_type": "code",
   "execution_count": 12,
   "metadata": {
    "collapsed": false
   },
   "outputs": [],
   "source": [
    "# # Saving\n",
    "sim = 'Sim_26Jul16_'\n",
    "#Save_(sim, Tb, Tr, P, VegType, yrs, Time_Consumed, Time)"
   ]
  },
  {
   "cell_type": "markdown",
   "metadata": {},
   "source": [
    "Let's look at outputs.\n",
    "\n",
    "Plots of the cellular field of PFT at specified year step can be found below where:\n",
    "\n",
    "GRASS = green;  SHRUB = red;  TREE = black;  BARE = white;  \n",
    "\n",
    "At the end, percentage cover of each PFT is plotted with respect to time."
   ]
  },
  {
   "cell_type": "code",
   "execution_count": 13,
   "metadata": {
    "collapsed": false
   },
   "outputs": [
    {
     "name": "stdout",
     "output_type": "stream",
     "text": [
      "Plotting cellular field of Plant Functional Type\n",
      "Green - Grass; Red - Shrubs; Black - Trees; White - Bare\n"
     ]
    },
    {
     "data": {
      "image/png": "[encoded data removed]",
      "text/plain": [
       "<matplotlib.figure.Figure at 0x1e378da6d68>"
      ]
     },
     "metadata": {},
     "output_type": "display_data"
    },
    {
     "data": {
      "image/png": "[encoded data removed]",
      "text/plain": [
       "<matplotlib.figure.Figure at 0x1e37d8cac50>"
      ]
     },
     "metadata": {},
     "output_type": "display_data"
    },
    {
     "data": {
      "image/png": "[encoded data removed]",
      "text/plain": [
       "<matplotlib.figure.Figure at 0x1e37d9362e8>"
      ]
     },
     "metadata": {},
     "output_type": "display_data"
    },
    {
     "data": {
      "image/png": "[encoded data removed]",
      "text/plain": [
       "<matplotlib.figure.Figure at 0x1e37d99feb8>"
      ]
     },
     "metadata": {},
     "output_type": "display_data"
    },
    {
     "data": {
      "image/png": "[encoded data removed]",
      "text/plain": [
       "<matplotlib.figure.Figure at 0x1e37d9f7f60>"
      ]
     },
     "metadata": {},
     "output_type": "display_data"
    },
    {
     "data": {
      "image/png": "[encoded data removed]",
      "text/plain": [
       "<matplotlib.figure.Figure at 0x1e37da66a90>"
      ]
     },
     "metadata": {},
     "output_type": "display_data"
    },
    {
     "data": {
      "image/png": "[encoded data removed]",
      "text/plain": [
       "<matplotlib.figure.Figure at 0x1e37da9c208>"
      ]
     },
     "metadata": {},
     "output_type": "display_data"
    }
   ],
   "source": [
    "Plot_(grid1, VegType, yrs, yr_step=100)"
   ]
  },
  {
   "cell_type": "markdown",
   "metadata": {
    "collapsed": false
   },
   "source": [
    "If you want to explore this model further, open 'Inputs_Vegetation_CA.txt' and change the input parameters (e.g., initial PFT distribution percentages, storm characteristics, etc..)."
   ]
  },
  {
   "cell_type": "markdown",
   "metadata": {
    "collapsed": true
   },
   "source": [
    "### Click here for more <a href=\"https://github.com/landlab/landlab/wiki/Tutorials\">Landlab tutorials</a>"
   ]
  }
 ],
 "metadata": {
  "kernelspec": {
   "display_name": "Python [conda root]",
   "language": "python",
   "name": "conda-root-py"
  },
  "language_info": {
   "codemirror_mode": {
    "name": "ipython",
    "version": 3
   },
   "file_extension": ".py",
   "mimetype": "text/x-python",
   "name": "python",
   "nbconvert_exporter": "python",
   "pygments_lexer": "ipython3",
   "version": "3.5.2"
  }
 },
 "nbformat": 4,
 "nbformat_minor": 0
}
