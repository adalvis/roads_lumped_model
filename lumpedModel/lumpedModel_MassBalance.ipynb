{
 "cells": [
  {
   "cell_type": "markdown",
   "metadata": {},
   "source": [
    "# Let's think about mass balance\n",
    "Amanda Manaster  \n",
    "*2019.07.15*  \n",
    "\n",
    "---\n",
    "When a truck passes, two processes occur: **crushing and pumping**.  \n",
    "    &emsp;*Crushing* creates more fine sediment in the existing sediment matrix by breaking down larger particles.  \n",
    "    &emsp;*Pumping* makes fine sediment available for transport (i.e., adds the fine sediment to the fines storage layer). \n",
    "\n",
    "We can think of the total storage as:  \n",
    "$S=S_{f}+S_{m}$  \n",
    "\n",
    "$S_f$= fines storage term (i.e., what’s available for transport?)  \n",
    "$S_m$= matrix storage term; combination of fines ($S_{m_f}$), coarse particles ($S_{m_c}$) \n",
    "\n",
    "\n",
    "And the mass balance as:  \n",
    "$dS = -q_{s_{out}}$  \n",
    "\n",
    "$dS$ = total change in storage  \n",
    "$q_{s_{out}}$ = sediment leaving the road prism\n",
    "\n",
    "---\n",
    "## **Fines storage term:**  \n",
    "$S_{f_{i+1}} = S_{f_{i}} + dS_{f_{i}}$  \n",
    "\n",
    "*Initial condition:*  \n",
    "&emsp;$S_{f_{0}} = 0$\n",
    "\n",
    "### After truck passes/storms: \n",
    "   &emsp;<u>Condition 1:</u>    \n",
    "   &emsp;Amount of available sediment is *greater than* the sediment transport capacity.  \n",
    "       &emsp;&emsp;$q_{s_{out}} = q_s*t_s$  \n",
    "       &emsp;&emsp;$dS_{f_{i}} = u*t_p*L - q_{s_{out}}$  \n",
    "   &emsp;<u>Condition 2:</u>   \n",
    "   &emsp;Amount of available sediment is *less than* the sediment transport capacity.  \n",
    "       &emsp;&emsp;$q_{s_{out}} = min(u*t_p*L + S_{f_i}, q_s*t_s)$  \n",
    "       &emsp;&emsp;$ dS_{f_i} = u*t_p*L - q_{s_{out}}$    \n",
    "\n",
    "where:  \n",
    "    &emsp;$u$ = pumping of fines w/ each truck pass; $0.005 mm$  \n",
    "    &emsp;$t_p$ = # of truck passes  \n",
    "    &emsp;$L$ = representative length of road in $m$  \n",
    "    &emsp;$q_s$ = mean rate of sediment transport during a storm, assuming steady-state runoff in $m^2/s$  \n",
    "    &emsp;$t_s$ = storm duration in $s$  \n",
    "    \n",
    "--- \n",
    "## Matrix storage term: \n",
    "$S_{m_{i+1}} = S_{m_{i}} + dS_{m_{i}}$  \n",
    "\n",
    "*Initial condition:*  \n",
    "&emsp;$S_{m_0}=S_{m_{f_0}}+S_{m_{g_0}}$  \n",
    "&emsp;$S_{m_{f_0}}=t_{m_0}\\ast f_{m_{f_0}}\\ast\\left(1-p_{m}\\right)$   \n",
    "&emsp;$S_{m_{c_0}}=t_{m_0}\\ast f_{m_{c_0}}\\ast\\left(1-p_{m}\\right)$  \n",
    "      \n",
    "where:   \n",
    "    &emsp;$t_{m_0}$ = thickness of sediment matrix in $m$  \n",
    "    &emsp;$f_{m_{f_0}}$ = initial fraction of fines in matrix [-]   \n",
    "    &emsp;$f_{m_{c_0}}$ = initial fraction of larger particles in matrix [-]  \n",
    "    &emsp;$p_{m}$ = porosity of sediment mixture in the matrix  \n",
    "\n",
    "### After truck passes:   \n",
    "$dS_{m_i} = dS_{m_{c_i}} + dS_{m_{f_i}}$  \n",
    "$dS_{m_{c_i}}=-k\\ast S_{m_{c_i}}*t_{p_i}$     \n",
    "$dS_{m_{f_i}}=k\\ast S_{m_{c_i}}*t_{p_i}–(dS_{f_i}+q_{s_{out}})$ \n",
    "\n",
    "where:  \n",
    "$k$ = crushing constant [-]\n",
    "\n",
    "---\n",
    "## More equations\n",
    "#### Gover's equation (Istanbulluoglu et al. 2002):  \n",
    "$q_s = \\frac{10^{-4.348}}{(\\rho_s*d_{50}^{0.811})}*(\\tau-\\tau_c)^{2.457}$  \n",
    "where:  \n",
    "    &emsp;$\\rho_s$ = density of sediment; $2650 kg/m^3$  \n",
    "    &emsp;$d_{50}$ = median grain size of fines  \n",
    "    &emsp;$\\tau$ = shear stress    \n",
    "    &emsp;$\\tau_c$ = critical shear stress      \n",
    "\n",
    "*Note: This equation is calibrated for sediments that are between 0.058 and 1.098 mm.*  \n",
    "\n",
    "#### More variable definitions:    \n",
    "   &emsp;$\\rho_w$ = density of water; $1000 kg/m^3$  \n",
    "   &emsp;$g$ = gravity; $9.81 m/s^2$  \n",
    "   &emsp;$H$ = depth of water  \n",
    "   &emsp;$S$ = slope  \n",
    "   &emsp;$r$ = runoff rate in $m/s$  \n",
    "\n",
    "---\n",
    "## An illustration:\n",
    "<img src=\"capture1.png\" width=\"375\" align=\"left\"/>\n",
    "<img src=\"Capture.png\" width=\"375\" align=\"left\" />  "
   ]
  },
  {
   "cell_type": "code",
   "execution_count": 1,
   "metadata": {},
   "outputs": [],
   "source": [
    "%matplotlib inline\n",
    "\n",
    "import numpy as np\n",
    "import matplotlib.pyplot as plt\n",
    "import pandas as pd\n",
    "from datetime import datetime, timedelta"
   ]
  },
  {
   "cell_type": "code",
   "execution_count": 2,
   "metadata": {},
   "outputs": [],
   "source": [
    "L = 3.66\n",
    "month = []\n",
    "depth = []\n",
    "rainfall = []\n",
    "t = []\n",
    "len_s = []\n",
    "truck_pass = []\n",
    "\n",
    "model_end = 52560 #hours"
   ]
  },
  {
   "cell_type": "code",
   "execution_count": 3,
   "metadata": {},
   "outputs": [],
   "source": [
    "np.random.seed(1)\n",
    "time = 0\n",
    "while time < model_end:\n",
    "    truck = 0\n",
    "    T_b = np.random.exponential(72)\n",
    "    T_r = np.random.exponential(0.85)\n",
    "    r = np.random.exponential(30)\n",
    "    \n",
    "    while (r<10) or (r>100):\n",
    "        r = np.random.exponential(30)\n",
    "    \n",
    "    if T_b/24 >= 1:\n",
    "        day = int(T_b/24)\n",
    "        for num in range(0, day):\n",
    "            truck += np.random.randint(0,10)\n",
    "    else:\n",
    "        truck = np.random.randint(0,5)\n",
    "    \n",
    "    len_s.append(T_r)\n",
    "    depth.append(r*T_r)\n",
    "    rainfall.append(r)\n",
    "    t.append(time)\n",
    "    truck_pass.append(truck)\n",
    "    \n",
    "    time += T_b + T_r"
   ]
  },
  {
   "cell_type": "code",
   "execution_count": 4,
   "metadata": {},
   "outputs": [
    {
     "data": {
      "text/html": [
       "<div>\n",
       "<style scoped>\n",
       "    .dataframe tbody tr th:only-of-type {\n",
       "        vertical-align: middle;\n",
       "    }\n",
       "\n",
       "    .dataframe tbody tr th {\n",
       "        vertical-align: top;\n",
       "    }\n",
       "\n",
       "    .dataframe thead th {\n",
       "        text-align: right;\n",
       "    }\n",
       "</style>\n",
       "<table border=\"1\" class=\"dataframe\">\n",
       "  <thead>\n",
       "    <tr style=\"text-align: right;\">\n",
       "      <th></th>\n",
       "      <th>time</th>\n",
       "      <th>day</th>\n",
       "      <th>storm_depth</th>\n",
       "      <th>rainfall_rate</th>\n",
       "      <th>storm_length</th>\n",
       "      <th>truck_pass</th>\n",
       "    </tr>\n",
       "  </thead>\n",
       "  <tbody>\n",
       "    <tr>\n",
       "      <th>2018-10-01 00:00:00.000000</th>\n",
       "      <td>0.000000</td>\n",
       "      <td>0</td>\n",
       "      <td>11.696884</td>\n",
       "      <td>10.800383</td>\n",
       "      <td>1.083006</td>\n",
       "      <td>0</td>\n",
       "    </tr>\n",
       "    <tr>\n",
       "      <th>2018-10-02 15:56:04.656292</th>\n",
       "      <td>39.934627</td>\n",
       "      <td>1</td>\n",
       "      <td>2.228388</td>\n",
       "      <td>12.719294</td>\n",
       "      <td>0.175197</td>\n",
       "      <td>1</td>\n",
       "    </tr>\n",
       "    <tr>\n",
       "      <th>2018-10-02 23:05:07.666605</th>\n",
       "      <td>47.085463</td>\n",
       "      <td>1</td>\n",
       "      <td>16.014891</td>\n",
       "      <td>34.676391</td>\n",
       "      <td>0.461838</td>\n",
       "      <td>6</td>\n",
       "    </tr>\n",
       "    <tr>\n",
       "      <th>2018-10-05 07:16:20.658723</th>\n",
       "      <td>103.272405</td>\n",
       "      <td>4</td>\n",
       "      <td>33.649366</td>\n",
       "      <td>48.395031</td>\n",
       "      <td>0.695306</td>\n",
       "      <td>9</td>\n",
       "    </tr>\n",
       "    <tr>\n",
       "      <th>2018-10-06 22:51:15.360342</th>\n",
       "      <td>142.854267</td>\n",
       "      <td>5</td>\n",
       "      <td>1.813292</td>\n",
       "      <td>21.903831</td>\n",
       "      <td>0.082784</td>\n",
       "      <td>17</td>\n",
       "    </tr>\n",
       "  </tbody>\n",
       "</table>\n",
       "</div>"
      ],
      "text/plain": [
       "                                  time  day  storm_depth  rainfall_rate  \\\n",
       "2018-10-01 00:00:00.000000    0.000000    0    11.696884      10.800383   \n",
       "2018-10-02 15:56:04.656292   39.934627    1     2.228388      12.719294   \n",
       "2018-10-02 23:05:07.666605   47.085463    1    16.014891      34.676391   \n",
       "2018-10-05 07:16:20.658723  103.272405    4    33.649366      48.395031   \n",
       "2018-10-06 22:51:15.360342  142.854267    5     1.813292      21.903831   \n",
       "\n",
       "                            storm_length  truck_pass  \n",
       "2018-10-01 00:00:00.000000      1.083006           0  \n",
       "2018-10-02 15:56:04.656292      0.175197           1  \n",
       "2018-10-02 23:05:07.666605      0.461838           6  \n",
       "2018-10-05 07:16:20.658723      0.695306           9  \n",
       "2018-10-06 22:51:15.360342      0.082784          17  "
      ]
     },
     "execution_count": 4,
     "metadata": {},
     "output_type": "execute_result"
    }
   ],
   "source": [
    "df = pd.DataFrame()\n",
    "\n",
    "df['time'] = t\n",
    "df['day'] = np.divide(t,24).astype('int64')\n",
    "df['storm_depth'] = depth\n",
    "df['rainfall_rate'] = rainfall\n",
    "df['storm_length'] = len_s\n",
    "df['truck_pass'] = truck_pass\n",
    "\n",
    "day0 = datetime(2018, 10, 1)\n",
    "df.set_index(pd.DatetimeIndex([day0+timedelta(hours=time) for time in df.time]), inplace=True)\n",
    "\n",
    "df.head()"
   ]
  },
  {
   "cell_type": "code",
   "execution_count": 5,
   "metadata": {},
   "outputs": [
    {
     "data": {
      "text/html": [
       "<div>\n",
       "<style scoped>\n",
       "    .dataframe tbody tr th:only-of-type {\n",
       "        vertical-align: middle;\n",
       "    }\n",
       "\n",
       "    .dataframe tbody tr th {\n",
       "        vertical-align: top;\n",
       "    }\n",
       "\n",
       "    .dataframe thead th {\n",
       "        text-align: right;\n",
       "    }\n",
       "</style>\n",
       "<table border=\"1\" class=\"dataframe\">\n",
       "  <thead>\n",
       "    <tr style=\"text-align: right;\">\n",
       "      <th></th>\n",
       "      <th>time</th>\n",
       "      <th>day</th>\n",
       "      <th>storm_depth</th>\n",
       "      <th>rainfall_rate</th>\n",
       "      <th>storm_length</th>\n",
       "      <th>truck_pass</th>\n",
       "    </tr>\n",
       "  </thead>\n",
       "  <tbody>\n",
       "    <tr>\n",
       "      <th>2024-09-18</th>\n",
       "      <td>52306.546350</td>\n",
       "      <td>2179</td>\n",
       "      <td>6.916254</td>\n",
       "      <td>13.468594</td>\n",
       "      <td>0.513510</td>\n",
       "      <td>17.0</td>\n",
       "    </tr>\n",
       "    <tr>\n",
       "      <th>2024-09-19</th>\n",
       "      <td>0.000000</td>\n",
       "      <td>2180</td>\n",
       "      <td>0.000000</td>\n",
       "      <td>0.000000</td>\n",
       "      <td>0.000000</td>\n",
       "      <td>0.0</td>\n",
       "    </tr>\n",
       "    <tr>\n",
       "      <th>2024-09-20</th>\n",
       "      <td>0.000000</td>\n",
       "      <td>2181</td>\n",
       "      <td>0.000000</td>\n",
       "      <td>0.000000</td>\n",
       "      <td>0.000000</td>\n",
       "      <td>0.0</td>\n",
       "    </tr>\n",
       "    <tr>\n",
       "      <th>2024-09-21</th>\n",
       "      <td>0.000000</td>\n",
       "      <td>2182</td>\n",
       "      <td>0.000000</td>\n",
       "      <td>0.000000</td>\n",
       "      <td>0.000000</td>\n",
       "      <td>0.0</td>\n",
       "    </tr>\n",
       "    <tr>\n",
       "      <th>2024-09-22</th>\n",
       "      <td>52404.867404</td>\n",
       "      <td>2183</td>\n",
       "      <td>18.826539</td>\n",
       "      <td>38.952241</td>\n",
       "      <td>0.356891</td>\n",
       "      <td>42.0</td>\n",
       "    </tr>\n",
       "  </tbody>\n",
       "</table>\n",
       "</div>"
      ],
      "text/plain": [
       "                    time   day  storm_depth  rainfall_rate  storm_length  \\\n",
       "2024-09-18  52306.546350  2179     6.916254      13.468594      0.513510   \n",
       "2024-09-19      0.000000  2180     0.000000       0.000000      0.000000   \n",
       "2024-09-20      0.000000  2181     0.000000       0.000000      0.000000   \n",
       "2024-09-21      0.000000  2182     0.000000       0.000000      0.000000   \n",
       "2024-09-22  52404.867404  2183    18.826539      38.952241      0.356891   \n",
       "\n",
       "            truck_pass  \n",
       "2024-09-18        17.0  \n",
       "2024-09-19         0.0  \n",
       "2024-09-20         0.0  \n",
       "2024-09-21         0.0  \n",
       "2024-09-22        42.0  "
      ]
     },
     "execution_count": 5,
     "metadata": {},
     "output_type": "execute_result"
    }
   ],
   "source": [
    "df2 = df.resample('D').mean().fillna(0)\n",
    "df2['day'] = np.arange(0, len(df2), 1)\n",
    "df2.tail()"
   ]
  },
  {
   "cell_type": "code",
   "execution_count": 6,
   "metadata": {},
   "outputs": [
    {
     "data": {
      "image/png": "[encoded data removed]",
      "text/plain": [
       "<Figure size 504x360 with 1 Axes>"
      ]
     },
     "metadata": {
      "needs_background": "light"
     },
     "output_type": "display_data"
    }
   ],
   "source": [
    "ticklabels = [item.strftime('%b %Y') for item in df2.index[::366]]\n",
    "fig, ax = plt.subplots(figsize=(7,5))\n",
    "df2.plot.bar(y='storm_depth', ax=ax, legend=False)\n",
    "plt.xlabel('Date', fontweight='bold', fontsize=14)\n",
    "plt.ylabel('Rainfall (mm)', fontweight='bold', fontsize=14)\n",
    "plt.title('Daily rainfall', fontweight='bold', fontsize=16)\n",
    "plt.xticks(np.arange(0,366*len(ticklabels),366), ticklabels, rotation=35)\n",
    "plt.tight_layout()\n",
    "#plt.savefig(r'C:\\Users\\Amanda\\Desktop\\Rainfall.png', dpi=300)\n",
    "plt.show()"
   ]
  },
  {
   "cell_type": "code",
   "execution_count": 7,
   "metadata": {},
   "outputs": [],
   "source": [
    "rho_w = 1000 #kg/m^3\n",
    "rho_s = 2650 #kg/m^3\n",
    "g = 9.81 #m/s^2\n",
    "S = 0.058\n",
    "tau_c = 0.110 #N/m^2; assuming d50 is approx. 0.0625 mm; value from https://pubs.usgs.gov/sir/2008/5093/table7.html\n",
    "d50 = 6.25e-5 #m\n",
    "u = 5.0e-6 #m\n",
    "n = 0.02 #approx Manning's n value for overland flow\n",
    "\n",
    "H = ((n*df.rainfall_rate*2.77778e-7*L)/S**(1/2))**(3/5)\n",
    "\n",
    "df['shear_stress'] = rho_w*g*(H)*S"
   ]
  },
  {
   "cell_type": "code",
   "execution_count": 8,
   "metadata": {},
   "outputs": [
    {
     "data": {
      "text/html": [
       "<div>\n",
       "<style scoped>\n",
       "    .dataframe tbody tr th:only-of-type {\n",
       "        vertical-align: middle;\n",
       "    }\n",
       "\n",
       "    .dataframe tbody tr th {\n",
       "        vertical-align: top;\n",
       "    }\n",
       "\n",
       "    .dataframe thead th {\n",
       "        text-align: right;\n",
       "    }\n",
       "</style>\n",
       "<table border=\"1\" class=\"dataframe\">\n",
       "  <thead>\n",
       "    <tr style=\"text-align: right;\">\n",
       "      <th></th>\n",
       "      <th>time</th>\n",
       "      <th>day</th>\n",
       "      <th>storm_depth</th>\n",
       "      <th>rainfall_rate</th>\n",
       "      <th>storm_length</th>\n",
       "      <th>truck_pass</th>\n",
       "      <th>shear_stress</th>\n",
       "      <th>q_s</th>\n",
       "    </tr>\n",
       "  </thead>\n",
       "  <tbody>\n",
       "    <tr>\n",
       "      <th>2018-10-01 00:00:00.000000</th>\n",
       "      <td>0.000000</td>\n",
       "      <td>0</td>\n",
       "      <td>11.696884</td>\n",
       "      <td>10.800383</td>\n",
       "      <td>1.083006</td>\n",
       "      <td>0</td>\n",
       "      <td>0.135225</td>\n",
       "      <td>5.147551e-09</td>\n",
       "    </tr>\n",
       "    <tr>\n",
       "      <th>2018-10-02 15:56:04.656292</th>\n",
       "      <td>39.934627</td>\n",
       "      <td>1</td>\n",
       "      <td>2.228388</td>\n",
       "      <td>12.719294</td>\n",
       "      <td>0.175197</td>\n",
       "      <td>1</td>\n",
       "      <td>0.149167</td>\n",
       "      <td>1.517370e-08</td>\n",
       "    </tr>\n",
       "    <tr>\n",
       "      <th>2018-10-02 23:05:07.666605</th>\n",
       "      <td>47.085463</td>\n",
       "      <td>1</td>\n",
       "      <td>16.014891</td>\n",
       "      <td>34.676391</td>\n",
       "      <td>0.461838</td>\n",
       "      <td>6</td>\n",
       "      <td>0.272279</td>\n",
       "      <td>4.987818e-07</td>\n",
       "    </tr>\n",
       "    <tr>\n",
       "      <th>2018-10-05 07:16:20.658723</th>\n",
       "      <td>103.272405</td>\n",
       "      <td>4</td>\n",
       "      <td>33.649366</td>\n",
       "      <td>48.395031</td>\n",
       "      <td>0.695306</td>\n",
       "      <td>9</td>\n",
       "      <td>0.332563</td>\n",
       "      <td>1.083900e-06</td>\n",
       "    </tr>\n",
       "    <tr>\n",
       "      <th>2018-10-06 22:51:15.360342</th>\n",
       "      <td>142.854267</td>\n",
       "      <td>5</td>\n",
       "      <td>1.813292</td>\n",
       "      <td>21.903831</td>\n",
       "      <td>0.082784</td>\n",
       "      <td>17</td>\n",
       "      <td>0.206684</td>\n",
       "      <td>1.397357e-07</td>\n",
       "    </tr>\n",
       "  </tbody>\n",
       "</table>\n",
       "</div>"
      ],
      "text/plain": [
       "                                  time  day  storm_depth  rainfall_rate  \\\n",
       "2018-10-01 00:00:00.000000    0.000000    0    11.696884      10.800383   \n",
       "2018-10-02 15:56:04.656292   39.934627    1     2.228388      12.719294   \n",
       "2018-10-02 23:05:07.666605   47.085463    1    16.014891      34.676391   \n",
       "2018-10-05 07:16:20.658723  103.272405    4    33.649366      48.395031   \n",
       "2018-10-06 22:51:15.360342  142.854267    5     1.813292      21.903831   \n",
       "\n",
       "                            storm_length  truck_pass  shear_stress  \\\n",
       "2018-10-01 00:00:00.000000      1.083006           0      0.135225   \n",
       "2018-10-02 15:56:04.656292      0.175197           1      0.149167   \n",
       "2018-10-02 23:05:07.666605      0.461838           6      0.272279   \n",
       "2018-10-05 07:16:20.658723      0.695306           9      0.332563   \n",
       "2018-10-06 22:51:15.360342      0.082784          17      0.206684   \n",
       "\n",
       "                                     q_s  \n",
       "2018-10-01 00:00:00.000000  5.147551e-09  \n",
       "2018-10-02 15:56:04.656292  1.517370e-08  \n",
       "2018-10-02 23:05:07.666605  4.987818e-07  \n",
       "2018-10-05 07:16:20.658723  1.083900e-06  \n",
       "2018-10-06 22:51:15.360342  1.397357e-07  "
      ]
     },
     "execution_count": 8,
     "metadata": {},
     "output_type": "execute_result"
    }
   ],
   "source": [
    "df['q_s'] = ((10**(-4.348))/(rho_s*d50**(0.811)))*(df.shear_stress-tau_c)**(2.457)\n",
    "df.fillna(0, inplace=True)\n",
    "\n",
    "df.head()"
   ]
  },
  {
   "cell_type": "code",
   "execution_count": 9,
   "metadata": {},
   "outputs": [],
   "source": [
    "df3 = df.resample('D').mean().fillna(0)\n",
    "df3['day'] = np.arange(0, len(df3), 1)"
   ]
  },
  {
   "cell_type": "code",
   "execution_count": 10,
   "metadata": {},
   "outputs": [
    {
     "data": {
      "image/png": "[encoded data removed]",
      "text/plain": [
       "<Figure size 504x360 with 1 Axes>"
      ]
     },
     "metadata": {
      "needs_background": "light"
     },
     "output_type": "display_data"
    }
   ],
   "source": [
    "fig2, ax2 = plt.subplots(figsize=(7,5))\n",
    "df3.plot(y='q_s', ax=ax2, color = 'r', legend=False)\n",
    "plt.xlabel('Date', fontweight='bold', fontsize=14)\n",
    "plt.ylabel(r'Sediment transport rate $(m^2/s)$', fontweight='bold', fontsize=14)\n",
    "plt.title('Sediment transport rates', fontweight='bold', fontsize=16)\n",
    "plt.tight_layout()\n",
    "#plt.savefig(r'C:\\Users\\Amanda\\Desktop\\Sediment.png', dpi=300)\n",
    "plt.show()"
   ]
  },
  {
   "cell_type": "markdown",
   "metadata": {},
   "source": [
    "## Create loop that goes through model time:\n",
    "1. Create fines storage, $S_{f_0}$, and matrix storage, $S_{m_0}$:  \n",
    "    &emsp;$S_{f_{0}} = 0$  \n",
    "    &emsp;$S_{m_0}=S_{m_{f_0}}+S_{m_{g_0}}$  \n",
    "    &emsp;&emsp;$S_{m_{f_0}}=t_{m_0}\\ast f_{m_{f_0}}\\ast\\left(1-p_{m}\\right)$   \n",
    "    &emsp;&emsp;$S_{m_{c_0}}=t_{m_0}\\ast f_{m_{c_0}}\\ast\\left(1-p_{m}\\right)$  \n",
    "\n",
    "\n",
    "2. Loop through dataframe:\n",
    "    * Calculate $dS_{f_i}$  \n",
    "        * Check if available sediment is greater than transport capacity:\n",
    "            * If *yes*, **condition 1** applies:  \n",
    "              $q_{s_{out}} = q_s*t_s$  \n",
    "              $dS_{f_{i}} = u*t_p*L - q_{s_{out}}$     \n",
    "      \n",
    "            * If *no*, **condition 2** applies:    \n",
    "              $q_{s_{out}} = min(u*t_p*L + S_{f_{i-1}}, q_s*t_s)$  \n",
    "              $dS_{f_i} = u*t_p*L - q_{s_{out}}$  \n",
    "              \n",
    "     * Calculate $dS_{m_i}$  \n",
    "        $dS_{m_i} = dS_{m_{c_i}} + dS_{m_{f_i}} = –(dS_{f_i}+q_{s_{out}})$  \n",
    "        &emsp;$dS_{m_{c_i}}=-k\\ast S_{m_{c_i}}*t_{p_i}$     \n",
    "        &emsp;$dS_{m_{f_i}}=k\\ast S_{m_{c_i}}*t_{p_i}–(dS_{f_i}+q_{s_{out}})$ \n",
    "      \n",
    "      \n",
    "3. Update the fines storage term and the matrix storage term:  \n",
    "    $S_{f_{i+1}} = S_{f_{i}} + dS_{f_{i}}$  \n",
    "    $S_{m_{i+1}} = S_{m_{i}} + dS_{m_{i}}$  \n",
    "    \n",
    "    \n",
    "For simplicity, we'll assume the following:  \n",
    "    &emsp;$t_{m_0}=0.23$ [m] (https://www.fhwa.dot.gov/construction/pubs/ots15002.pdf, A4 Table 3)   \n",
    "    &emsp;$f_{m_{f_0}}= 0.275$ [-] (from Palix watershed analysis)  \n",
    "    &emsp;$f_{m_{c_0}}= 0.725$ [-] (from Palix watershed analysis)  \n",
    "    &emsp;$p_{m}=0.275$ [-] (Applied Hydrogeology 3rd Ed. by C.W. Fetter, Table 3.4)   \n"
   ]
  },
  {
   "cell_type": "code",
   "execution_count": 11,
   "metadata": {},
   "outputs": [],
   "source": [
    "#define constants\n",
    "t_m = 0.23\n",
    "f_mf = 0.275\n",
    "f_mc = 0.725\n",
    "p_m = 0.275"
   ]
  },
  {
   "cell_type": "code",
   "execution_count": 12,
   "metadata": {},
   "outputs": [
    {
     "name": "stderr",
     "output_type": "stream",
     "text": [
      "C:\\Users\\Amanda\\Anaconda3\\lib\\site-packages\\pandas\\core\\indexing.py:190: SettingWithCopyWarning: \n",
      "A value is trying to be set on a copy of a slice from a DataFrame\n",
      "\n",
      "See the caveats in the documentation: http://pandas.pydata.org/pandas-docs/stable/indexing.html#indexing-view-versus-copy\n",
      "  self._setitem_with_indexer(indexer, value)\n"
     ]
    }
   ],
   "source": [
    "df_storage = pd.DataFrame()\n",
    "\n",
    "df_storage['time'] = t\n",
    "df_storage['day'] = np.divide(t,24).astype('int64')\n",
    "day0 = datetime(2018, 10, 1)\n",
    "df_storage.set_index(pd.DatetimeIndex([day0+timedelta(hours=time) for time in df_storage.time]), inplace=True)\n",
    "\n",
    "df_storage['fines_storage'] = np.zeros(len(df))\n",
    "\n",
    "\n",
    "df_storage['matrix_storage'] = np.zeros(len(df))\n",
    "df_storage.matrix_storage.iloc[0] = t_m*(1-p_m)*(f_mf + f_mc)"
   ]
  },
  {
   "cell_type": "code",
   "execution_count": 13,
   "metadata": {},
   "outputs": [],
   "source": [
    "sed_avail = u*df.truck_pass*L\n",
    "sed_cap = df.storm_length*3600*df.q_s\n",
    "value = (sed_avail-sed_cap)\n",
    "\n",
    "df_storage['value'] = value\n",
    "df_storage['condition'] = np.where(df_storage.value > 0, 'Conditon 1', 'Condition 2')"
   ]
  },
  {
   "cell_type": "code",
   "execution_count": 14,
   "metadata": {},
   "outputs": [
    {
     "data": {
      "text/html": [
       "<div>\n",
       "<style scoped>\n",
       "    .dataframe tbody tr th:only-of-type {\n",
       "        vertical-align: middle;\n",
       "    }\n",
       "\n",
       "    .dataframe tbody tr th {\n",
       "        vertical-align: top;\n",
       "    }\n",
       "\n",
       "    .dataframe thead th {\n",
       "        text-align: right;\n",
       "    }\n",
       "</style>\n",
       "<table border=\"1\" class=\"dataframe\">\n",
       "  <thead>\n",
       "    <tr style=\"text-align: right;\">\n",
       "      <th></th>\n",
       "      <th>time</th>\n",
       "      <th>day</th>\n",
       "      <th>fines_storage</th>\n",
       "      <th>matrix_storage</th>\n",
       "      <th>value</th>\n",
       "      <th>condition</th>\n",
       "      <th>dS_fi</th>\n",
       "      <th>dS_mi</th>\n",
       "      <th>qs_out</th>\n",
       "    </tr>\n",
       "  </thead>\n",
       "  <tbody>\n",
       "    <tr>\n",
       "      <th>2018-10-01 00:00:00.000000</th>\n",
       "      <td>0.000000</td>\n",
       "      <td>0</td>\n",
       "      <td>0.000000e+00</td>\n",
       "      <td>0.166750</td>\n",
       "      <td>-0.000020</td>\n",
       "      <td>Condition 2</td>\n",
       "      <td>0.000000</td>\n",
       "      <td>-0.000000</td>\n",
       "      <td>0.000000</td>\n",
       "    </tr>\n",
       "    <tr>\n",
       "      <th>2018-10-02 15:56:04.656292</th>\n",
       "      <td>39.934627</td>\n",
       "      <td>1</td>\n",
       "      <td>8.729785e-06</td>\n",
       "      <td>0.166732</td>\n",
       "      <td>0.000009</td>\n",
       "      <td>Conditon 1</td>\n",
       "      <td>0.000009</td>\n",
       "      <td>-0.000018</td>\n",
       "      <td>0.000010</td>\n",
       "    </tr>\n",
       "    <tr>\n",
       "      <th>2018-10-02 23:05:07.666605</th>\n",
       "      <td>47.085463</td>\n",
       "      <td>1</td>\n",
       "      <td>5.082198e-21</td>\n",
       "      <td>0.166622</td>\n",
       "      <td>-0.000719</td>\n",
       "      <td>Condition 2</td>\n",
       "      <td>-0.000009</td>\n",
       "      <td>-0.000110</td>\n",
       "      <td>0.000119</td>\n",
       "    </tr>\n",
       "    <tr>\n",
       "      <th>2018-10-05 07:16:20.658723</th>\n",
       "      <td>103.272405</td>\n",
       "      <td>4</td>\n",
       "      <td>5.082198e-21</td>\n",
       "      <td>0.166457</td>\n",
       "      <td>-0.002548</td>\n",
       "      <td>Condition 2</td>\n",
       "      <td>0.000000</td>\n",
       "      <td>-0.000165</td>\n",
       "      <td>0.000165</td>\n",
       "    </tr>\n",
       "    <tr>\n",
       "      <th>2018-10-06 22:51:15.360342</th>\n",
       "      <td>142.854267</td>\n",
       "      <td>5</td>\n",
       "      <td>2.694555e-04</td>\n",
       "      <td>0.166146</td>\n",
       "      <td>0.000269</td>\n",
       "      <td>Conditon 1</td>\n",
       "      <td>0.000269</td>\n",
       "      <td>-0.000311</td>\n",
       "      <td>0.000042</td>\n",
       "    </tr>\n",
       "  </tbody>\n",
       "</table>\n",
       "</div>"
      ],
      "text/plain": [
       "                                  time  day  fines_storage  matrix_storage  \\\n",
       "2018-10-01 00:00:00.000000    0.000000    0   0.000000e+00        0.166750   \n",
       "2018-10-02 15:56:04.656292   39.934627    1   8.729785e-06        0.166732   \n",
       "2018-10-02 23:05:07.666605   47.085463    1   5.082198e-21        0.166622   \n",
       "2018-10-05 07:16:20.658723  103.272405    4   5.082198e-21        0.166457   \n",
       "2018-10-06 22:51:15.360342  142.854267    5   2.694555e-04        0.166146   \n",
       "\n",
       "                               value    condition     dS_fi     dS_mi  \\\n",
       "2018-10-01 00:00:00.000000 -0.000020  Condition 2  0.000000 -0.000000   \n",
       "2018-10-02 15:56:04.656292  0.000009   Conditon 1  0.000009 -0.000018   \n",
       "2018-10-02 23:05:07.666605 -0.000719  Condition 2 -0.000009 -0.000110   \n",
       "2018-10-05 07:16:20.658723 -0.002548  Condition 2  0.000000 -0.000165   \n",
       "2018-10-06 22:51:15.360342  0.000269   Conditon 1  0.000269 -0.000311   \n",
       "\n",
       "                              qs_out  \n",
       "2018-10-01 00:00:00.000000  0.000000  \n",
       "2018-10-02 15:56:04.656292  0.000010  \n",
       "2018-10-02 23:05:07.666605  0.000119  \n",
       "2018-10-05 07:16:20.658723  0.000165  \n",
       "2018-10-06 22:51:15.360342  0.000042  "
      ]
     },
     "execution_count": 14,
     "metadata": {},
     "output_type": "execute_result"
    }
   ],
   "source": [
    "df_storage['dS_fi'] = np.zeros(len(df))\n",
    "df_storage['dS_mi'] = np.zeros(len(df))\n",
    "df_storage['qs_out'] = np.zeros(len(df))\n",
    "\n",
    "for i in range(0, len(df)):\n",
    "    if df_storage.value[i] < 0:\n",
    "        if i == 0:\n",
    "            df_storage.qs_out.iloc[i] = np.minimum(sed_avail[i], sed_cap[i])\n",
    "            df_storage.dS_fi.iloc[i] = sed_avail[i] - df_storage.qs_out.iloc[i]\n",
    "        else:\n",
    "            df_storage.qs_out.iloc[i] = np.minimum(np.abs(sed_avail[i]+df_storage.fines_storage.iloc[i-1]), sed_cap[i])\n",
    "            df_storage.dS_fi.iloc[i] = sed_avail[i] - df_storage.qs_out.iloc[i]\n",
    "\n",
    "    else:\n",
    "        df_storage.qs_out.iloc[i] = sed_cap[i]\n",
    "        df_storage.dS_fi.iloc[i] = value[i]\n",
    "\n",
    "    df_storage.dS_mi.iloc[i] = -df_storage.dS_fi.iloc[i] - df_storage.qs_out.iloc[i]\n",
    "        \n",
    "    if i == 0:\n",
    "        df_storage.fines_storage.iloc[i] = df_storage.fines_storage.iloc[i]\n",
    "        df_storage.matrix_storage.iloc[i] = df_storage.matrix_storage.iloc[i]\n",
    "    else:\n",
    "        df_storage.fines_storage.iloc[i] = df_storage.fines_storage.iloc[i-1] + df_storage.dS_fi.iloc[i]\n",
    "        df_storage.matrix_storage.iloc[i] = df_storage.matrix_storage.iloc[i-1] + df_storage.dS_mi.iloc[i]\n",
    "\n",
    "\n",
    "df_storage.head()"
   ]
  },
  {
   "cell_type": "code",
   "execution_count": 15,
   "metadata": {},
   "outputs": [],
   "source": [
    "df4 = df_storage.resample('D').mean().fillna(method='ffill')\n",
    "df4['day'] = np.arange(0, len(df4), 1)"
   ]
  },
  {
   "cell_type": "code",
   "execution_count": 16,
   "metadata": {},
   "outputs": [
    {
     "data": {
      "image/png": "[encoded data removed]",
      "text/plain": [
       "<Figure size 504x360 with 1 Axes>"
      ]
     },
     "metadata": {
      "needs_background": "light"
     },
     "output_type": "display_data"
    }
   ],
   "source": [
    "fig3, ax3 = plt.subplots(figsize=(7,5))\n",
    "df4.plot(y='fines_storage', ax=ax3, color = 'k', legend=False)\n",
    "plt.xlabel('Date', fontweight='bold', fontsize=14)\n",
    "plt.ylabel(r'Fine sediment storage $(m)$', fontweight='bold', fontsize=14)\n",
    "plt.title('Fine sediment storage', fontweight='bold', fontsize=16)\n",
    "plt.tight_layout()\n",
    "plt.show()"
   ]
  },
  {
   "cell_type": "code",
   "execution_count": 17,
   "metadata": {},
   "outputs": [],
   "source": [
    "df5 = df_storage.resample('H').mean().fillna(method='ffill')\n",
    "df5['hour'] = np.arange(0, len(df5), 1)"
   ]
  },
  {
   "cell_type": "code",
   "execution_count": 18,
   "metadata": {},
   "outputs": [
    {
     "data": {
      "image/png": "[encoded data removed]",
      "text/plain": [
       "<Figure size 504x360 with 1 Axes>"
      ]
     },
     "metadata": {
      "needs_background": "light"
     },
     "output_type": "display_data"
    }
   ],
   "source": [
    "fig4, ax4 = plt.subplots(figsize=(7,5))\n",
    "df5.plot(y='matrix_storage', ax=ax4, color = 'k', legend=False)\n",
    "plt.xlabel('Date', fontweight='bold', fontsize=14)\n",
    "plt.ylabel(r'Sediment matrix storage $(m)$', fontweight='bold', fontsize=14)\n",
    "plt.title('Sediment matrix storage', fontweight='bold', fontsize=16)\n",
    "plt.tight_layout()\n",
    "plt.show()"
   ]
  },
  {
   "cell_type": "code",
   "execution_count": 19,
   "metadata": {},
   "outputs": [
    {
     "data": {
      "image/png": "[encoded data removed]",
      "text/plain": [
       "<Figure size 504x360 with 1 Axes>"
      ]
     },
     "metadata": {
      "needs_background": "light"
     },
     "output_type": "display_data"
    }
   ],
   "source": [
    "fig5, ax5 = plt.subplots(figsize=(7,5))\n",
    "sed_cumsum_kg_m = df_storage.qs_out.cumsum()*rho_s\n",
    "sed_cumsum_kg_m.plot(ax=ax5, color = 'm', legend=False)\n",
    "plt.xlabel('Date', fontweight='bold', fontsize=14)\n",
    "plt.ylabel(r'Cumulative sediment load $(kg/m)$', fontweight='bold', fontsize=14)\n",
    "plt.title('Sediment load per meter of road', fontweight='bold', fontsize=16)\n",
    "plt.tight_layout()\n",
    "plt.show()"
   ]
  },
  {
   "cell_type": "code",
   "execution_count": 20,
   "metadata": {},
   "outputs": [
    {
     "data": {
      "text/plain": [
       "417.7036673700345"
      ]
     },
     "execution_count": 20,
     "metadata": {},
     "output_type": "execute_result"
    }
   ],
   "source": [
    "sed_sum_m2 = df_storage.qs_out.sum()\n",
    "sed_sum_kg_m = sed_sum_m2*rho_s\n",
    "sed_sum_kg_m"
   ]
  },
  {
   "cell_type": "code",
   "execution_count": null,
   "metadata": {},
   "outputs": [],
   "source": []
  }
 ],
 "metadata": {
  "kernelspec": {
   "display_name": "Python 3",
   "language": "python",
   "name": "python3"
  },
  "language_info": {
   "codemirror_mode": {
    "name": "ipython",
    "version": 3
   },
   "file_extension": ".py",
   "mimetype": "text/x-python",
   "name": "python",
   "nbconvert_exporter": "python",
   "pygments_lexer": "ipython3",
   "version": "3.7.3"
  }
 },
 "nbformat": 4,
 "nbformat_minor": 2
}
