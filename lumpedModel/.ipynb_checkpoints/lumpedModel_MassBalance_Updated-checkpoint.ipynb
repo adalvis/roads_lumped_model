{
 "cells": [
  {
   "cell_type": "markdown",
   "metadata": {},
   "source": [
    "# Let's think about mass balance\n",
    "Amanda Manaster  \n",
    "*2019.09.04*  \n",
    "\n",
    "---\n",
    "When a truck passes, two processes occur: **crushing and pumping**.  \n",
    "    &emsp;*Crushing* creates more fine sediment in the existing sediment matrix by breaking down larger particles.  \n",
    "    &emsp;*Pumping* makes fine sediment available for transport (i.e., adds the fine sediment to the fines storage layer). \n",
    "\n",
    "We can think of the total storage as:  \n",
    "$S=S_f+S_s+S_b$  \n",
    "    &emsp;$S_f$= fines storage term (i.e., what’s available for transport?) [$m$]  \n",
    "    &emsp;$S_s$= surfacing storage term; combination of fines ($S_{s_f}$), coarse particles ($S_{s_c}$) [$m$]  \n",
    "    &emsp;$S_b$= ballast storage term; combination of fines, 20-30% ($S_{b_f}$), large rocks, 70-80% ($S_{b_r}$) [$m$]  \n",
    "\n",
    "And the net mass balance as:  \n",
    "$∆S=-\\frac{V_{s,out}}{A}=-H_{s,out}$\n",
    "\n",
    "$∆S$ = total change in storage [$m$]  \n",
    "$V_{s,out}$ = sediment leaving the road prism [$m^3$]  \n",
    "$A$ = representative area of road [$m^2$]  \n",
    "$H_{s,out}$ = depth of sediment leaving the road prism [$m$]    \n",
    "\n",
    "**First assumption:** The limiting factor of what can be pumped out of the road surface is a function of the fines that exist in the ballast.\n",
    "\n",
    "---\n",
    "## **Fines storage term:**  \n",
    "Fines storage term:  \n",
    "$S_{f_{i}} = S_{f_{i-1}} + \\Delta S_{f_{i}}$  \n",
    "\n",
    "*Initial condition:*   \n",
    "$S_{f_0}=0$  \n",
    "\n",
    "### After truck passes/storms: \n",
    "   &emsp;<u>Condition 1:</u>    \n",
    "    &emsp;Amount of available sediment is *greater than* the sediment transport capacity.  \n",
    "       &emsp;&emsp;$H_{s,out_i}=\\frac{q_{s_i}*t_{s_i}}{L}$  \n",
    "       &emsp;&emsp;$∆S_{f_i}=u_p*n_i-H_{s,out_i}$  \n",
    "    &emsp;<u>Condition 2:</u>   \n",
    "    &emsp;Amount of available sediment is less than the sediment transport capacity.  \n",
    "       &emsp;&emsp;$H_{s,out_i}=min(u_p*n_i+S_{f_i},\\frac{q_{s_i}*t_{s_i}}{L})$   \n",
    "       &emsp;&emsp;$∆S_{f_i}=u_p*n_i-H_{s,out_i}$    \n",
    "\n",
    "where:  \n",
    "    &emsp;$u_p$ = pumping of fines w/ each truck pass; $0.005 mm$  \n",
    "    &emsp;$n$ = # of truck passes  \n",
    "    &emsp;$L$ = representative length of road in $m$  \n",
    "    &emsp;$q_s$ = mean rate of sediment transport during a storm, assuming steady-state runoff in $m^2/s$  \n",
    "    &emsp;$t_s$ = storm duration in $s$  \n",
    "    &emsp;$H_{s,out}$ = depth of sediment leaving the road prism [$m$]  \n",
    "    \n",
    "--- \n",
    "## Surfacing storage term: \n",
    "$S_{s_i}=S_{{sc}_i}+S_{{sf}_i}$  (at each time step)  \n",
    "\n",
    "*Initial condition:*    \n",
    "   &emsp;$S_{s_{f_0}}=h_{s_0}*f_{s_{f_0}}*(1-p_s)$   \n",
    "   &emsp;$S_{s_{c_0}}=h_{s_0}*f_{s_{c_0}}*(1-p_s)$  \n",
    "      \n",
    "where:   \n",
    "   &emsp;$h_{s_0}$ = thickness of sediment surfacing [m]  \n",
    "   &emsp;$f_{s_{f_0}}$ = initial fraction of fines in surfacing [-]   \n",
    "   &emsp;$f_{s_{c_0}}$ = initial fraction of larger particles in surfacing [-]  \n",
    "   &emsp;$p_s$ = porosity of sediment mixture in the surfacing [-]  \n",
    "\n",
    "### As time progresses:  \n",
    "   &emsp;$S_{sc_i}=e^{-kn_i}\\left(S_{sc_{i-1}}+\\frac{u_c}{k}\\right)-\\frac{u_c}{k}$  \n",
    "   &emsp;$S_{sf_i}={{(1-e}^{-kn_i})(S}_{sc_{i-1}}+\\frac{u_c}{k})-n_i\\left(u_c+u_p-u_f\\right)+S_{sf_{i-1}}$  \n",
    "\n",
    "where:  \n",
    "   &emsp;$k$ = crushing constant [-]  \n",
    "   &emsp;$u_c$ = settling of coarse sediment from surfacing into ballast [m/truck pass]  \n",
    "   &emsp;$u_f$= pumping of fine sediment from ballast into surfacing [m/truck pass]  \n",
    "\n",
    "---\n",
    "## Ballast Storage Term:\n",
    "$S_{b_i}= n_i(u_c - u_f)+ S_{b_{i-1}}$  \n",
    "\n",
    "Initial condition:  \n",
    "   &emsp;$S_{b_0}=S_{{bf}_0}+S_{{br}_0}$  \n",
    "   &emsp;$S_{{bf}_0}=t_{b_0}*f_{{bf}_0}*(1-p_b)$   \n",
    "   &emsp;$S_{{br}_0}=t_{b_0}*f_{{br}_0}*(1-p_b)$  \n",
    "      \n",
    "where:   \n",
    "   &emsp;$t_{b_0}$ = thickness of ballast in m  \n",
    "   &emsp;$f_{{bf}_0}$ = initial fraction of fines in ballast [-]   \n",
    "   &emsp;$f_{{br}_0}$ = initial fraction of large rocks in ballast [-]  \n",
    "   &emsp;$p_b$ = porosity of sediment mixture in the ballast\n",
    "\n",
    "---\n",
    "## More equations\n",
    "#### Gover's equation (Istanbulluoglu et al. 2002):  \n",
    "$q_s = \\frac{10^{-4.348}}{(\\rho_s*d_{50}^{0.811})}*(\\tau-\\tau_c)^{2.457}$  \n",
    "where:  \n",
    "    &emsp;$\\rho_s$ = density of sediment; $2650 kg/m^3$  \n",
    "    &emsp;$d_{50}$ = median grain size of fines  \n",
    "    &emsp;$\\tau$ = shear stress    \n",
    "    &emsp;$\\tau_c$ = critical shear stress      \n",
    "\n",
    "*Note: This equation is calibrated for sediments that are between 0.058 and 1.098 mm.*  \n",
    "\n",
    "#### More variable definitions:    \n",
    "   &emsp;$\\rho_w$ = density of water; $1000 kg/m^3$  \n",
    "   &emsp;$g$ = gravity; $9.81 m/s^2$  \n",
    "   &emsp;$H$ = depth of water  \n",
    "   &emsp;$S$ = slope  \n",
    "   &emsp;$r$ = runoff rate in $m/s$  \n",
    "\n",
    "---\n",
    "## An illustration:\n",
    "<img src=\"Updated.png\" align=\"left\"/>"
   ]
  },
  {
   "cell_type": "markdown",
   "metadata": {},
   "source": [
    "First, load in packages"
   ]
  },
  {
   "cell_type": "code",
   "execution_count": 1,
   "metadata": {},
   "outputs": [],
   "source": [
    "%matplotlib inline\n",
    "\n",
    "import numpy as np\n",
    "import matplotlib.pyplot as plt\n",
    "import pandas as pd\n",
    "from datetime import datetime, timedelta"
   ]
  },
  {
   "cell_type": "markdown",
   "metadata": {},
   "source": [
    "Instantiate empty lists for model run."
   ]
  },
  {
   "cell_type": "code",
   "execution_count": 2,
   "metadata": {},
   "outputs": [],
   "source": [
    "L = 3.66 #m\n",
    "\n",
    "depth = []\n",
    "rainfall = []\n",
    "t = []\n",
    "len_s = []\n",
    "truck_pass = []\n",
    "\n",
    "model_end = 52560 #hours == 6 years"
   ]
  },
  {
   "cell_type": "markdown",
   "metadata": {},
   "source": [
    "From Oregon Coast:\n",
    "\n",
    "Mean storm intensity = 0.68 mm/hr\n",
    "Mean storm duration = 31.5 hrs\n",
    "Mean time btwn storms = 148 hrs"
   ]
  },
  {
   "cell_type": "code",
   "execution_count": 3,
   "metadata": {},
   "outputs": [],
   "source": [
    "np.random.seed(1)\n",
    "time = 0\n",
    "while time < model_end:\n",
    "    truck = 0\n",
    "    T_b = np.random.exponential(72)\n",
    "    T_r = np.random.exponential(0.85)\n",
    "    r = np.random.exponential(30)\n",
    "    \n",
    "    while (r<1) or (r>100):\n",
    "        r = np.random.exponential(30)\n",
    "    \n",
    "    time_loop = T_b+T_r\n",
    "    \n",
    "    if time_loop/24 >= 1: # change T_b to time bc trucks pass during storms, too. Add elif for frac of day\n",
    "        day = int(time_loop/24)\n",
    "        for num in range(day):\n",
    "            truck += np.random.randint(0,10)\n",
    "    else:\n",
    "        truck = np.random.randint(0,5)\n",
    "    \n",
    "    len_s.append(T_r)\n",
    "    depth.append(r*T_r)\n",
    "    rainfall.append(r)\n",
    "    t.append(time)\n",
    "    truck_pass.append(truck)\n",
    "    \n",
    "    time += T_b + T_r"
   ]
  },
  {
   "cell_type": "code",
   "execution_count": 4,
   "metadata": {},
   "outputs": [
    {
     "data": {
      "text/html": [
       "<div>\n",
       "<style scoped>\n",
       "    .dataframe tbody tr th:only-of-type {\n",
       "        vertical-align: middle;\n",
       "    }\n",
       "\n",
       "    .dataframe tbody tr th {\n",
       "        vertical-align: top;\n",
       "    }\n",
       "\n",
       "    .dataframe thead th {\n",
       "        text-align: right;\n",
       "    }\n",
       "</style>\n",
       "<table border=\"1\" class=\"dataframe\">\n",
       "  <thead>\n",
       "    <tr style=\"text-align: right;\">\n",
       "      <th></th>\n",
       "      <th>time</th>\n",
       "      <th>day</th>\n",
       "      <th>storm_depth</th>\n",
       "      <th>rainfall_rate</th>\n",
       "      <th>storm_length</th>\n",
       "      <th>truck_pass</th>\n",
       "    </tr>\n",
       "  </thead>\n",
       "  <tbody>\n",
       "    <tr>\n",
       "      <th>2018-10-01 00:00:00.000000</th>\n",
       "      <td>0.000000</td>\n",
       "      <td>0</td>\n",
       "      <td>11.696884</td>\n",
       "      <td>10.800383</td>\n",
       "      <td>1.083006</td>\n",
       "      <td>0</td>\n",
       "    </tr>\n",
       "    <tr>\n",
       "      <th>2018-10-02 15:56:04.656292</th>\n",
       "      <td>39.934627</td>\n",
       "      <td>1</td>\n",
       "      <td>2.228388</td>\n",
       "      <td>12.719294</td>\n",
       "      <td>0.175197</td>\n",
       "      <td>1</td>\n",
       "    </tr>\n",
       "    <tr>\n",
       "      <th>2018-10-02 23:05:07.666605</th>\n",
       "      <td>47.085463</td>\n",
       "      <td>1</td>\n",
       "      <td>16.014891</td>\n",
       "      <td>34.676391</td>\n",
       "      <td>0.461838</td>\n",
       "      <td>6</td>\n",
       "    </tr>\n",
       "    <tr>\n",
       "      <th>2018-10-05 07:16:20.658723</th>\n",
       "      <td>103.272405</td>\n",
       "      <td>4</td>\n",
       "      <td>3.155430</td>\n",
       "      <td>4.538188</td>\n",
       "      <td>0.695306</td>\n",
       "      <td>0</td>\n",
       "    </tr>\n",
       "    <tr>\n",
       "      <th>2018-10-06 22:51:15.360342</th>\n",
       "      <td>142.854267</td>\n",
       "      <td>5</td>\n",
       "      <td>52.102560</td>\n",
       "      <td>48.699641</td>\n",
       "      <td>1.069876</td>\n",
       "      <td>16</td>\n",
       "    </tr>\n",
       "  </tbody>\n",
       "</table>\n",
       "</div>"
      ],
      "text/plain": [
       "                                  time  day  storm_depth  rainfall_rate  \\\n",
       "2018-10-01 00:00:00.000000    0.000000    0    11.696884      10.800383   \n",
       "2018-10-02 15:56:04.656292   39.934627    1     2.228388      12.719294   \n",
       "2018-10-02 23:05:07.666605   47.085463    1    16.014891      34.676391   \n",
       "2018-10-05 07:16:20.658723  103.272405    4     3.155430       4.538188   \n",
       "2018-10-06 22:51:15.360342  142.854267    5    52.102560      48.699641   \n",
       "\n",
       "                            storm_length  truck_pass  \n",
       "2018-10-01 00:00:00.000000      1.083006           0  \n",
       "2018-10-02 15:56:04.656292      0.175197           1  \n",
       "2018-10-02 23:05:07.666605      0.461838           6  \n",
       "2018-10-05 07:16:20.658723      0.695306           0  \n",
       "2018-10-06 22:51:15.360342      1.069876          16  "
      ]
     },
     "execution_count": 4,
     "metadata": {},
     "output_type": "execute_result"
    }
   ],
   "source": [
    "df = pd.DataFrame()\n",
    "\n",
    "df['time'] = t\n",
    "df['day'] = np.divide(t,24).astype('int64')\n",
    "df['storm_depth'] = depth\n",
    "df['rainfall_rate'] = rainfall\n",
    "df['storm_length'] = len_s\n",
    "df['truck_pass'] = truck_pass\n",
    "\n",
    "day0 = datetime(2018, 10, 1)\n",
    "df.set_index(pd.DatetimeIndex([day0+timedelta(hours=time) for time in df.time]), inplace=True)\n",
    "\n",
    "df.head()"
   ]
  },
  {
   "cell_type": "code",
   "execution_count": 5,
   "metadata": {},
   "outputs": [
    {
     "data": {
      "text/html": [
       "<div>\n",
       "<style scoped>\n",
       "    .dataframe tbody tr th:only-of-type {\n",
       "        vertical-align: middle;\n",
       "    }\n",
       "\n",
       "    .dataframe tbody tr th {\n",
       "        vertical-align: top;\n",
       "    }\n",
       "\n",
       "    .dataframe thead th {\n",
       "        text-align: right;\n",
       "    }\n",
       "</style>\n",
       "<table border=\"1\" class=\"dataframe\">\n",
       "  <thead>\n",
       "    <tr style=\"text-align: right;\">\n",
       "      <th></th>\n",
       "      <th>time</th>\n",
       "      <th>day</th>\n",
       "      <th>storm_depth</th>\n",
       "      <th>rainfall_rate</th>\n",
       "      <th>storm_length</th>\n",
       "      <th>truck_pass</th>\n",
       "    </tr>\n",
       "  </thead>\n",
       "  <tbody>\n",
       "    <tr>\n",
       "      <th>2018-10-01</th>\n",
       "      <td>0.000000</td>\n",
       "      <td>0</td>\n",
       "      <td>11.696884</td>\n",
       "      <td>10.800383</td>\n",
       "      <td>1.083006</td>\n",
       "      <td>0.0</td>\n",
       "    </tr>\n",
       "    <tr>\n",
       "      <th>2018-10-02</th>\n",
       "      <td>43.510045</td>\n",
       "      <td>1</td>\n",
       "      <td>9.121640</td>\n",
       "      <td>23.697843</td>\n",
       "      <td>0.318518</td>\n",
       "      <td>3.5</td>\n",
       "    </tr>\n",
       "    <tr>\n",
       "      <th>2018-10-03</th>\n",
       "      <td>0.000000</td>\n",
       "      <td>2</td>\n",
       "      <td>0.000000</td>\n",
       "      <td>0.000000</td>\n",
       "      <td>0.000000</td>\n",
       "      <td>0.0</td>\n",
       "    </tr>\n",
       "    <tr>\n",
       "      <th>2018-10-04</th>\n",
       "      <td>0.000000</td>\n",
       "      <td>3</td>\n",
       "      <td>0.000000</td>\n",
       "      <td>0.000000</td>\n",
       "      <td>0.000000</td>\n",
       "      <td>0.0</td>\n",
       "    </tr>\n",
       "    <tr>\n",
       "      <th>2018-10-05</th>\n",
       "      <td>103.272405</td>\n",
       "      <td>4</td>\n",
       "      <td>3.155430</td>\n",
       "      <td>4.538188</td>\n",
       "      <td>0.695306</td>\n",
       "      <td>0.0</td>\n",
       "    </tr>\n",
       "  </tbody>\n",
       "</table>\n",
       "</div>"
      ],
      "text/plain": [
       "                  time  day  storm_depth  rainfall_rate  storm_length  \\\n",
       "2018-10-01    0.000000    0    11.696884      10.800383      1.083006   \n",
       "2018-10-02   43.510045    1     9.121640      23.697843      0.318518   \n",
       "2018-10-03    0.000000    2     0.000000       0.000000      0.000000   \n",
       "2018-10-04    0.000000    3     0.000000       0.000000      0.000000   \n",
       "2018-10-05  103.272405    4     3.155430       4.538188      0.695306   \n",
       "\n",
       "            truck_pass  \n",
       "2018-10-01         0.0  \n",
       "2018-10-02         3.5  \n",
       "2018-10-03         0.0  \n",
       "2018-10-04         0.0  \n",
       "2018-10-05         0.0  "
      ]
     },
     "execution_count": 5,
     "metadata": {},
     "output_type": "execute_result"
    }
   ],
   "source": [
    "df2 = df.resample('D').mean().fillna(0)\n",
    "df2['day'] = np.arange(0, len(df2), 1)\n",
    "df2.head()"
   ]
  },
  {
   "cell_type": "code",
   "execution_count": 6,
   "metadata": {},
   "outputs": [
    {
     "data": {
      "image/png": "[encoded data removed]",
      "text/plain": [
       "<Figure size 504x360 with 1 Axes>"
      ]
     },
     "metadata": {
      "needs_background": "light"
     },
     "output_type": "display_data"
    }
   ],
   "source": [
    "ticklabels = [item.strftime('%b %Y') for item in df2.index[::366]]\n",
    "fig, ax = plt.subplots(figsize=(7,5))\n",
    "df2.plot.bar(y='storm_depth', ax=ax, legend=False)\n",
    "plt.xlabel('Date', fontweight='bold', fontsize=14)\n",
    "plt.ylabel('Rainfall (mm)', fontweight='bold', fontsize=14)\n",
    "plt.title('Daily rainfall', fontweight='bold', fontsize=16)\n",
    "plt.xticks(np.arange(0,366*len(ticklabels),366), ticklabels, rotation=35)\n",
    "plt.tight_layout()\n",
    "#plt.savefig(r'C:\\Users\\Amanda\\Desktop\\Rainfall.png', dpi=300)\n",
    "plt.show()"
   ]
  },
  {
   "cell_type": "code",
   "execution_count": 7,
   "metadata": {},
   "outputs": [],
   "source": [
    "#Define constants\n",
    "rho_w = 1000 #kg/m^3\n",
    "rho_s = 2650 #kg/m^3\n",
    "g = 9.81 #m/s^2\n",
    "S = 0.058\n",
    "tau_c = 0.110 #N/m^2; assuming d50 is approx. 0.0625 mm; value from https://pubs.usgs.gov/sir/2008/5093/table7.html\n",
    "d50 = 6.25e-5 #m\n",
    "n = 0.02 #approx Manning's n value for overland flow\n",
    "\n",
    "H = ((n*df.rainfall_rate*2.77778e-7*L)/S**(1/2))**(3/5)\n",
    "\n",
    "df['shear_stress'] = rho_w*g*(H)*S"
   ]
  },
  {
   "cell_type": "code",
   "execution_count": 8,
   "metadata": {},
   "outputs": [
    {
     "data": {
      "text/html": [
       "<div>\n",
       "<style scoped>\n",
       "    .dataframe tbody tr th:only-of-type {\n",
       "        vertical-align: middle;\n",
       "    }\n",
       "\n",
       "    .dataframe tbody tr th {\n",
       "        vertical-align: top;\n",
       "    }\n",
       "\n",
       "    .dataframe thead th {\n",
       "        text-align: right;\n",
       "    }\n",
       "</style>\n",
       "<table border=\"1\" class=\"dataframe\">\n",
       "  <thead>\n",
       "    <tr style=\"text-align: right;\">\n",
       "      <th></th>\n",
       "      <th>time</th>\n",
       "      <th>day</th>\n",
       "      <th>storm_depth</th>\n",
       "      <th>rainfall_rate</th>\n",
       "      <th>storm_length</th>\n",
       "      <th>truck_pass</th>\n",
       "      <th>shear_stress</th>\n",
       "      <th>q_s</th>\n",
       "    </tr>\n",
       "  </thead>\n",
       "  <tbody>\n",
       "    <tr>\n",
       "      <th>2018-10-01 00:00:00.000000</th>\n",
       "      <td>0.000000</td>\n",
       "      <td>0</td>\n",
       "      <td>11.696884</td>\n",
       "      <td>10.800383</td>\n",
       "      <td>1.083006</td>\n",
       "      <td>0</td>\n",
       "      <td>0.135225</td>\n",
       "      <td>5.147551e-09</td>\n",
       "    </tr>\n",
       "    <tr>\n",
       "      <th>2018-10-02 15:56:04.656292</th>\n",
       "      <td>39.934627</td>\n",
       "      <td>1</td>\n",
       "      <td>2.228388</td>\n",
       "      <td>12.719294</td>\n",
       "      <td>0.175197</td>\n",
       "      <td>1</td>\n",
       "      <td>0.149167</td>\n",
       "      <td>1.517370e-08</td>\n",
       "    </tr>\n",
       "    <tr>\n",
       "      <th>2018-10-02 23:05:07.666605</th>\n",
       "      <td>47.085463</td>\n",
       "      <td>1</td>\n",
       "      <td>16.014891</td>\n",
       "      <td>34.676391</td>\n",
       "      <td>0.461838</td>\n",
       "      <td>6</td>\n",
       "      <td>0.272279</td>\n",
       "      <td>4.987818e-07</td>\n",
       "    </tr>\n",
       "    <tr>\n",
       "      <th>2018-10-05 07:16:20.658723</th>\n",
       "      <td>103.272405</td>\n",
       "      <td>4</td>\n",
       "      <td>3.155430</td>\n",
       "      <td>4.538188</td>\n",
       "      <td>0.695306</td>\n",
       "      <td>0</td>\n",
       "      <td>0.080375</td>\n",
       "      <td>0.000000e+00</td>\n",
       "    </tr>\n",
       "    <tr>\n",
       "      <th>2018-10-06 22:51:15.360342</th>\n",
       "      <td>142.854267</td>\n",
       "      <td>5</td>\n",
       "      <td>52.102560</td>\n",
       "      <td>48.699641</td>\n",
       "      <td>1.069876</td>\n",
       "      <td>16</td>\n",
       "      <td>0.333818</td>\n",
       "      <td>1.098971e-06</td>\n",
       "    </tr>\n",
       "  </tbody>\n",
       "</table>\n",
       "</div>"
      ],
      "text/plain": [
       "                                  time  day  storm_depth  rainfall_rate  \\\n",
       "2018-10-01 00:00:00.000000    0.000000    0    11.696884      10.800383   \n",
       "2018-10-02 15:56:04.656292   39.934627    1     2.228388      12.719294   \n",
       "2018-10-02 23:05:07.666605   47.085463    1    16.014891      34.676391   \n",
       "2018-10-05 07:16:20.658723  103.272405    4     3.155430       4.538188   \n",
       "2018-10-06 22:51:15.360342  142.854267    5    52.102560      48.699641   \n",
       "\n",
       "                            storm_length  truck_pass  shear_stress  \\\n",
       "2018-10-01 00:00:00.000000      1.083006           0      0.135225   \n",
       "2018-10-02 15:56:04.656292      0.175197           1      0.149167   \n",
       "2018-10-02 23:05:07.666605      0.461838           6      0.272279   \n",
       "2018-10-05 07:16:20.658723      0.695306           0      0.080375   \n",
       "2018-10-06 22:51:15.360342      1.069876          16      0.333818   \n",
       "\n",
       "                                     q_s  \n",
       "2018-10-01 00:00:00.000000  5.147551e-09  \n",
       "2018-10-02 15:56:04.656292  1.517370e-08  \n",
       "2018-10-02 23:05:07.666605  4.987818e-07  \n",
       "2018-10-05 07:16:20.658723  0.000000e+00  \n",
       "2018-10-06 22:51:15.360342  1.098971e-06  "
      ]
     },
     "execution_count": 8,
     "metadata": {},
     "output_type": "execute_result"
    }
   ],
   "source": [
    "df['q_s'] = ((10**(-4.348))/(rho_s*d50**(0.811)))*(df.shear_stress-tau_c)**(2.457)\n",
    "df.fillna(0, inplace=True)\n",
    "\n",
    "df.head()"
   ]
  },
  {
   "cell_type": "code",
   "execution_count": 9,
   "metadata": {},
   "outputs": [],
   "source": [
    "df3 = df.resample('D').mean().fillna(0)\n",
    "df3['day'] = np.arange(0, len(df3), 1)"
   ]
  },
  {
   "cell_type": "code",
   "execution_count": 10,
   "metadata": {},
   "outputs": [
    {
     "data": {
      "image/png": "[encoded data removed]",
      "text/plain": [
       "<Figure size 504x360 with 1 Axes>"
      ]
     },
     "metadata": {
      "needs_background": "light"
     },
     "output_type": "display_data"
    }
   ],
   "source": [
    "fig2, ax2 = plt.subplots(figsize=(7,5))\n",
    "df3.plot(y='q_s', ax=ax2, color = 'r', legend=False)\n",
    "plt.xlabel('Date', fontweight='bold', fontsize=14)\n",
    "plt.ylabel(r'Sediment transport rate $(m^2/s)$', fontweight='bold', fontsize=14)\n",
    "plt.title('Sediment transport rates', fontweight='bold', fontsize=16)\n",
    "plt.tight_layout()\n",
    "#plt.savefig(r'C:\\Users\\Amanda\\Desktop\\Sediment.png', dpi=300)\n",
    "plt.show()"
   ]
  },
  {
   "cell_type": "markdown",
   "metadata": {},
   "source": [
    "## Create loop that goes through model time:\n",
    "1. Create fines storage, $S_{f_0}$; surfacing storage, $S_{s_0}$; and ballast storage, $S_{b_0}$:  \n",
    "    &emsp;$S_{f_{0}} = 0$  \n",
    "    \n",
    "    &emsp;$S_{s_0}=S_{{sc}_0}+S_{{sf}_0}$     \n",
    "    &emsp;&emsp;$S_{s_{f_0}}=h_{s_0}*f_{sf_0}*(1-p_s)$   \n",
    "    &emsp;&emsp;$S_{s_{c_0}}=h_{s_0}*f_{sc_0}*(1-p_s)$  \n",
    "    \n",
    "    &emsp;$S_{b_0}=S_{{bf}_0}+S_{{br}_0}$  \n",
    "    &emsp;&emsp;$S_{{bf}_0}=h_{b_0}*f_{bf_0}*(1-p_b)$   \n",
    "    &emsp;&emsp;$S_{{br}_0}=h_{b_0}*f_{br_0}*(1-p_b)$  \n",
    "\n",
    "\n",
    "2. Loop through dataframe:\n",
    "    * Calculate $S_{f_i}$  \n",
    "        * Check if available sediment is greater than transport capacity:\n",
    "            * If *yes*, **condition 1** applies:  \n",
    "              $H_{s,out_i}=\\frac{q_{s_i}*t_{s_i}}{L}$    \n",
    "              $∆S_{f_i}=u_p*n_i-H_{s,out_i}$     \n",
    "              \n",
    "            * If *no*, **condition 2** applies:    \n",
    "              $H_{s,out_i}=min(u_p*n_i+S_{f_i},\\frac{q_{s_i}*t_{s_i}}{L})$  \n",
    "              $∆S_{f_i}=u_p*n_i-H_{s,out_i}$  \n",
    "              \n",
    "        * Update the fines storage term:  \n",
    "           $S_{f_{i}} = S_{f_{i-1}} + \\Delta S_{f_{i}}$  \n",
    "               \n",
    "    * Calculate $S_{s_i}$  \n",
    "       $S_{s_i} = S_{sc_i} + S_{sf_i}$  \n",
    "       $S_{sc_i}=e^{-kn_i}\\left(S_{sc_{i-1}}+\\frac{u_c}{k}\\right)-\\frac{u_c}{k}$  \n",
    "       $S_{sf_i}={{(1-e}^{-kn_i})(S}_{sc_{i-1}}+\\frac{u_c}{k})-n_i\\left(u_c+u_p-u_f\\right)+S_{sf_{i-1}}$  \n",
    "    * Calculate $S_{b_i}$  \n",
    "       $S_{b_i}= n_i(u_c - u_f)+ S_{b_{i-1}}$\n",
    "       \n",
    "    \n",
    "For simplicity, we'll assume the following:  \n",
    "    &emsp;$h_{s_0}$ = 0.23 [m] (https://www.fhwa.dot.gov/construction/pubs/ots15002.pdf, A4 Table 3)   \n",
    "    &emsp;$f_{sf_0}$ = 0.275 [-] (from Palix watershed analysis)  \n",
    "    &emsp;$f_{sc_0}$ = 0.725 [-] (from Palix watershed analysis)  \n",
    "    &emsp;$p_s$ = 0.275 [-] (Applied Hydrogeology 3rd Ed. by C.W. Fetter, Table 3.4)   \n",
    "    &emsp;$h_{b_0}$ = 0.60 [m]  \n",
    "    &emsp;$f_{bf_0}$ = 0.20 [-]  \n",
    "    &emsp;$f_{br_0}$ = 0.80 [-]  \n",
    "    &emsp;$p_b$ = 0.20 [-]  "
   ]
  },
  {
   "cell_type": "code",
   "execution_count": 11,
   "metadata": {},
   "outputs": [],
   "source": [
    "#define constants\n",
    "h_s = 0.23\n",
    "f_sf = 0.275\n",
    "f_sc = 0.725\n",
    "p_s = 0.275\n",
    "\n",
    "h_b = 0.60\n",
    "f_bf = 0.20\n",
    "f_br = 0.80\n",
    "p_b = 0.20\n",
    "\n",
    "k = 5e-4\n",
    "u_p = 2.0e-6 #m\n",
    "u_f = 2.0e-6 #m\n",
    "u_c = 1.0e-8 #m"
   ]
  },
  {
   "cell_type": "code",
   "execution_count": 12,
   "metadata": {},
   "outputs": [
    {
     "data": {
      "text/html": [
       "<div>\n",
       "<style scoped>\n",
       "    .dataframe tbody tr th:only-of-type {\n",
       "        vertical-align: middle;\n",
       "    }\n",
       "\n",
       "    .dataframe tbody tr th {\n",
       "        vertical-align: top;\n",
       "    }\n",
       "\n",
       "    .dataframe thead th {\n",
       "        text-align: right;\n",
       "    }\n",
       "</style>\n",
       "<table border=\"1\" class=\"dataframe\">\n",
       "  <thead>\n",
       "    <tr style=\"text-align: right;\">\n",
       "      <th></th>\n",
       "      <th>time</th>\n",
       "      <th>day</th>\n",
       "    </tr>\n",
       "  </thead>\n",
       "  <tbody>\n",
       "    <tr>\n",
       "      <th>2018-10-01 00:00:00.000000</th>\n",
       "      <td>0.000000</td>\n",
       "      <td>0</td>\n",
       "    </tr>\n",
       "    <tr>\n",
       "      <th>2018-10-02 15:56:04.656292</th>\n",
       "      <td>39.934627</td>\n",
       "      <td>1</td>\n",
       "    </tr>\n",
       "    <tr>\n",
       "      <th>2018-10-02 23:05:07.666605</th>\n",
       "      <td>47.085463</td>\n",
       "      <td>1</td>\n",
       "    </tr>\n",
       "    <tr>\n",
       "      <th>2018-10-05 07:16:20.658723</th>\n",
       "      <td>103.272405</td>\n",
       "      <td>4</td>\n",
       "    </tr>\n",
       "    <tr>\n",
       "      <th>2018-10-06 22:51:15.360342</th>\n",
       "      <td>142.854267</td>\n",
       "      <td>5</td>\n",
       "    </tr>\n",
       "  </tbody>\n",
       "</table>\n",
       "</div>"
      ],
      "text/plain": [
       "                                  time  day\n",
       "2018-10-01 00:00:00.000000    0.000000    0\n",
       "2018-10-02 15:56:04.656292   39.934627    1\n",
       "2018-10-02 23:05:07.666605   47.085463    1\n",
       "2018-10-05 07:16:20.658723  103.272405    4\n",
       "2018-10-06 22:51:15.360342  142.854267    5"
      ]
     },
     "execution_count": 12,
     "metadata": {},
     "output_type": "execute_result"
    }
   ],
   "source": [
    "df_storage = pd.DataFrame()\n",
    "\n",
    "df_storage['time'] = t\n",
    "df_storage['day'] = np.divide(t,24).astype('int64')\n",
    "day0 = datetime(2018, 10, 1)\n",
    "df_storage.set_index(pd.DatetimeIndex([day0+timedelta(hours=time) for time in df_storage.time]), inplace=True)\n",
    "\n",
    "df_storage.head()"
   ]
  },
  {
   "cell_type": "code",
   "execution_count": 13,
   "metadata": {},
   "outputs": [
    {
     "data": {
      "text/html": [
       "<div>\n",
       "<style scoped>\n",
       "    .dataframe tbody tr th:only-of-type {\n",
       "        vertical-align: middle;\n",
       "    }\n",
       "\n",
       "    .dataframe tbody tr th {\n",
       "        vertical-align: top;\n",
       "    }\n",
       "\n",
       "    .dataframe thead th {\n",
       "        text-align: right;\n",
       "    }\n",
       "</style>\n",
       "<table border=\"1\" class=\"dataframe\">\n",
       "  <thead>\n",
       "    <tr style=\"text-align: right;\">\n",
       "      <th></th>\n",
       "      <th>time</th>\n",
       "      <th>day</th>\n",
       "      <th>value</th>\n",
       "      <th>condition</th>\n",
       "    </tr>\n",
       "  </thead>\n",
       "  <tbody>\n",
       "    <tr>\n",
       "      <th>2018-10-01 00:00:00.000000</th>\n",
       "      <td>0.000000</td>\n",
       "      <td>0</td>\n",
       "      <td>-5.483440e-06</td>\n",
       "      <td>Condition 2</td>\n",
       "    </tr>\n",
       "    <tr>\n",
       "      <th>2018-10-02 15:56:04.656292</th>\n",
       "      <td>39.934627</td>\n",
       "      <td>1</td>\n",
       "      <td>-6.148128e-07</td>\n",
       "      <td>Condition 2</td>\n",
       "    </tr>\n",
       "    <tr>\n",
       "      <th>2018-10-02 23:05:07.666605</th>\n",
       "      <td>47.085463</td>\n",
       "      <td>1</td>\n",
       "      <td>-2.145803e-04</td>\n",
       "      <td>Condition 2</td>\n",
       "    </tr>\n",
       "    <tr>\n",
       "      <th>2018-10-05 07:16:20.658723</th>\n",
       "      <td>103.272405</td>\n",
       "      <td>4</td>\n",
       "      <td>0.000000e+00</td>\n",
       "      <td>Condition 2</td>\n",
       "    </tr>\n",
       "    <tr>\n",
       "      <th>2018-10-06 22:51:15.360342</th>\n",
       "      <td>142.854267</td>\n",
       "      <td>5</td>\n",
       "      <td>-1.124488e-03</td>\n",
       "      <td>Condition 2</td>\n",
       "    </tr>\n",
       "  </tbody>\n",
       "</table>\n",
       "</div>"
      ],
      "text/plain": [
       "                                  time  day         value    condition\n",
       "2018-10-01 00:00:00.000000    0.000000    0 -5.483440e-06  Condition 2\n",
       "2018-10-02 15:56:04.656292   39.934627    1 -6.148128e-07  Condition 2\n",
       "2018-10-02 23:05:07.666605   47.085463    1 -2.145803e-04  Condition 2\n",
       "2018-10-05 07:16:20.658723  103.272405    4  0.000000e+00  Condition 2\n",
       "2018-10-06 22:51:15.360342  142.854267    5 -1.124488e-03  Condition 2"
      ]
     },
     "execution_count": 13,
     "metadata": {},
     "output_type": "execute_result"
    }
   ],
   "source": [
    "sed_avail = u_p*df.truck_pass\n",
    "sed_cap = (df.storm_length*3600*df.q_s)/L\n",
    "value = (sed_avail-sed_cap)\n",
    "\n",
    "df_storage['value'] = value\n",
    "df_storage['condition'] = np.where(df_storage.value > 0, 'Conditon 1', 'Condition 2')\n",
    "\n",
    "df_storage.head()"
   ]
  },
  {
   "cell_type": "code",
   "execution_count": 14,
   "metadata": {
    "scrolled": true
   },
   "outputs": [
    {
     "data": {
      "text/html": [
       "<div>\n",
       "<style scoped>\n",
       "    .dataframe tbody tr th:only-of-type {\n",
       "        vertical-align: middle;\n",
       "    }\n",
       "\n",
       "    .dataframe tbody tr th {\n",
       "        vertical-align: top;\n",
       "    }\n",
       "\n",
       "    .dataframe thead th {\n",
       "        text-align: right;\n",
       "    }\n",
       "</style>\n",
       "<table border=\"1\" class=\"dataframe\">\n",
       "  <thead>\n",
       "    <tr style=\"text-align: right;\">\n",
       "      <th></th>\n",
       "      <th>time</th>\n",
       "      <th>day</th>\n",
       "      <th>value</th>\n",
       "      <th>condition</th>\n",
       "      <th>dS_f</th>\n",
       "      <th>S_f</th>\n",
       "      <th>S_s</th>\n",
       "      <th>S_sc</th>\n",
       "      <th>S_sf</th>\n",
       "      <th>S_b</th>\n",
       "      <th>Hs_out</th>\n",
       "    </tr>\n",
       "  </thead>\n",
       "  <tbody>\n",
       "    <tr>\n",
       "      <th>2018-10-01 00:00:00.000000</th>\n",
       "      <td>0.000000</td>\n",
       "      <td>0</td>\n",
       "      <td>-5.483440e-06</td>\n",
       "      <td>Condition 2</td>\n",
       "      <td>0.0</td>\n",
       "      <td>0.0</td>\n",
       "      <td>0.16675</td>\n",
       "      <td>0.120894</td>\n",
       "      <td>0.045856</td>\n",
       "      <td>0.480000</td>\n",
       "      <td>0.000000</td>\n",
       "    </tr>\n",
       "    <tr>\n",
       "      <th>2018-10-02 15:56:04.656292</th>\n",
       "      <td>39.934627</td>\n",
       "      <td>1</td>\n",
       "      <td>-6.148128e-07</td>\n",
       "      <td>Condition 2</td>\n",
       "      <td>0.0</td>\n",
       "      <td>0.0</td>\n",
       "      <td>0.16675</td>\n",
       "      <td>0.120833</td>\n",
       "      <td>0.045917</td>\n",
       "      <td>0.479998</td>\n",
       "      <td>0.000002</td>\n",
       "    </tr>\n",
       "    <tr>\n",
       "      <th>2018-10-02 23:05:07.666605</th>\n",
       "      <td>47.085463</td>\n",
       "      <td>1</td>\n",
       "      <td>-2.145803e-04</td>\n",
       "      <td>Condition 2</td>\n",
       "      <td>0.0</td>\n",
       "      <td>0.0</td>\n",
       "      <td>0.16675</td>\n",
       "      <td>0.120471</td>\n",
       "      <td>0.046279</td>\n",
       "      <td>0.479986</td>\n",
       "      <td>0.000012</td>\n",
       "    </tr>\n",
       "    <tr>\n",
       "      <th>2018-10-05 07:16:20.658723</th>\n",
       "      <td>103.272405</td>\n",
       "      <td>4</td>\n",
       "      <td>0.000000e+00</td>\n",
       "      <td>Condition 2</td>\n",
       "      <td>0.0</td>\n",
       "      <td>0.0</td>\n",
       "      <td>0.16675</td>\n",
       "      <td>0.120471</td>\n",
       "      <td>0.046279</td>\n",
       "      <td>0.479986</td>\n",
       "      <td>0.000000</td>\n",
       "    </tr>\n",
       "    <tr>\n",
       "      <th>2018-10-06 22:51:15.360342</th>\n",
       "      <td>142.854267</td>\n",
       "      <td>5</td>\n",
       "      <td>-1.124488e-03</td>\n",
       "      <td>Condition 2</td>\n",
       "      <td>0.0</td>\n",
       "      <td>0.0</td>\n",
       "      <td>0.16675</td>\n",
       "      <td>0.119511</td>\n",
       "      <td>0.047239</td>\n",
       "      <td>0.479954</td>\n",
       "      <td>0.000032</td>\n",
       "    </tr>\n",
       "  </tbody>\n",
       "</table>\n",
       "</div>"
      ],
      "text/plain": [
       "                                  time  day         value    condition  dS_f  \\\n",
       "2018-10-01 00:00:00.000000    0.000000    0 -5.483440e-06  Condition 2   0.0   \n",
       "2018-10-02 15:56:04.656292   39.934627    1 -6.148128e-07  Condition 2   0.0   \n",
       "2018-10-02 23:05:07.666605   47.085463    1 -2.145803e-04  Condition 2   0.0   \n",
       "2018-10-05 07:16:20.658723  103.272405    4  0.000000e+00  Condition 2   0.0   \n",
       "2018-10-06 22:51:15.360342  142.854267    5 -1.124488e-03  Condition 2   0.0   \n",
       "\n",
       "                            S_f      S_s      S_sc      S_sf       S_b  \\\n",
       "2018-10-01 00:00:00.000000  0.0  0.16675  0.120894  0.045856  0.480000   \n",
       "2018-10-02 15:56:04.656292  0.0  0.16675  0.120833  0.045917  0.479998   \n",
       "2018-10-02 23:05:07.666605  0.0  0.16675  0.120471  0.046279  0.479986   \n",
       "2018-10-05 07:16:20.658723  0.0  0.16675  0.120471  0.046279  0.479986   \n",
       "2018-10-06 22:51:15.360342  0.0  0.16675  0.119511  0.047239  0.479954   \n",
       "\n",
       "                              Hs_out  \n",
       "2018-10-01 00:00:00.000000  0.000000  \n",
       "2018-10-02 15:56:04.656292  0.000002  \n",
       "2018-10-02 23:05:07.666605  0.000012  \n",
       "2018-10-05 07:16:20.658723  0.000000  \n",
       "2018-10-06 22:51:15.360342  0.000032  "
      ]
     },
     "execution_count": 14,
     "metadata": {},
     "output_type": "execute_result"
    }
   ],
   "source": [
    "#Initialize numpy arrays for calculations\n",
    "dS_f = np.zeros(len(df))\n",
    "S_f = np.zeros(len(df))\n",
    "S_s = np.zeros(len(df))\n",
    "S_sc = np.zeros(len(df))\n",
    "S_sf = np.zeros(len(df))\n",
    "S_b = np.zeros(len(df))\n",
    "Hs_out = np.zeros(len(df))\n",
    "n_tp = df.truck_pass.to_numpy()\n",
    "\n",
    "\n",
    "#Initial conditions for fines, surfacing, ballast\n",
    "S_f[0] = 0\n",
    "S_s[0] = h_s*(f_sf + f_sc)*(1-p_s)\n",
    "S_sc[0] = h_s*(f_sc)*(1-p_s)\n",
    "S_sf[0] = h_s*(f_sf)*(1-p_s)\n",
    "S_b[0] = h_b*(f_bf + f_br)*(1-p_b)\n",
    "\n",
    "\n",
    "for i in range(1, len(df)):\n",
    "    S_sc[i] = np.exp(-k*n_tp[i])*(S_sc[i-1] + u_c/k) - u_c/k if np.exp(-k*n_tp[i])*(S_sc[i-1] + u_c/k) - u_c/k > 0 else 0\n",
    "    S_sf[i] = (1-np.exp(-k*n_tp[i]))*(S_sc[i-1] + u_c/k) - n_tp[i]*(u_c+u_p-u_f) + S_sf[i-1]\n",
    "        \n",
    "    S_s[i] = S_sc[i] + S_sf[i]\n",
    "    S_b[i] = n_tp[i]*(u_c - u_f) + S_b[i-1]\n",
    "        \n",
    "    if value[i] < 0:\n",
    "        Hs_out[i] = np.minimum(sed_avail[i]+S_f[i-1], sed_cap[i])\n",
    "        dS_f[i] = sed_avail[i] - Hs_out[i]\n",
    "\n",
    "    else:\n",
    "        Hs_out[i] = sed_cap[i]\n",
    "        dS_f[i] = sed_avail[i] - Hs_out[i]\n",
    "\n",
    "    S_f[i] = S_f[i-1] + dS_f[i]\n",
    "\n",
    "\n",
    "df_storage['dS_f'] = dS_f\n",
    "df_storage['S_f'] = S_f\n",
    "df_storage['S_s'] = S_s\n",
    "df_storage['S_sc'] = S_sc\n",
    "df_storage['S_sf'] = S_sf\n",
    "df_storage['S_b'] = S_b\n",
    "df_storage['Hs_out'] = Hs_out\n",
    "        \n",
    "        \n",
    "df_storage.head()"
   ]
  },
  {
   "cell_type": "code",
   "execution_count": 15,
   "metadata": {},
   "outputs": [
    {
     "data": {
      "text/html": [
       "<div>\n",
       "<style scoped>\n",
       "    .dataframe tbody tr th:only-of-type {\n",
       "        vertical-align: middle;\n",
       "    }\n",
       "\n",
       "    .dataframe tbody tr th {\n",
       "        vertical-align: top;\n",
       "    }\n",
       "\n",
       "    .dataframe thead th {\n",
       "        text-align: right;\n",
       "    }\n",
       "</style>\n",
       "<table border=\"1\" class=\"dataframe\">\n",
       "  <thead>\n",
       "    <tr style=\"text-align: right;\">\n",
       "      <th></th>\n",
       "      <th>time</th>\n",
       "      <th>day</th>\n",
       "      <th>value</th>\n",
       "      <th>condition</th>\n",
       "      <th>dS_f</th>\n",
       "      <th>S_f</th>\n",
       "      <th>S_s</th>\n",
       "      <th>S_sc</th>\n",
       "      <th>S_sf</th>\n",
       "      <th>S_b</th>\n",
       "      <th>Hs_out</th>\n",
       "    </tr>\n",
       "  </thead>\n",
       "  <tbody>\n",
       "    <tr>\n",
       "      <th>2018-10-01 00:00:00.000000</th>\n",
       "      <td>0.000000</td>\n",
       "      <td>0</td>\n",
       "      <td>-5.483440e-06</td>\n",
       "      <td>Condition 2</td>\n",
       "      <td>0.0</td>\n",
       "      <td>0.0</td>\n",
       "      <td>0.16675</td>\n",
       "      <td>0.120894</td>\n",
       "      <td>0.045856</td>\n",
       "      <td>0.480000</td>\n",
       "      <td>0.000000</td>\n",
       "    </tr>\n",
       "    <tr>\n",
       "      <th>2018-10-02 15:56:04.656292</th>\n",
       "      <td>39.934627</td>\n",
       "      <td>1</td>\n",
       "      <td>-6.148128e-07</td>\n",
       "      <td>Condition 2</td>\n",
       "      <td>0.0</td>\n",
       "      <td>0.0</td>\n",
       "      <td>0.16675</td>\n",
       "      <td>0.120833</td>\n",
       "      <td>0.045917</td>\n",
       "      <td>0.479998</td>\n",
       "      <td>0.000002</td>\n",
       "    </tr>\n",
       "    <tr>\n",
       "      <th>2018-10-02 23:05:07.666605</th>\n",
       "      <td>47.085463</td>\n",
       "      <td>1</td>\n",
       "      <td>-2.145803e-04</td>\n",
       "      <td>Condition 2</td>\n",
       "      <td>0.0</td>\n",
       "      <td>0.0</td>\n",
       "      <td>0.16675</td>\n",
       "      <td>0.120471</td>\n",
       "      <td>0.046279</td>\n",
       "      <td>0.479986</td>\n",
       "      <td>0.000012</td>\n",
       "    </tr>\n",
       "    <tr>\n",
       "      <th>2018-10-05 07:16:20.658723</th>\n",
       "      <td>103.272405</td>\n",
       "      <td>4</td>\n",
       "      <td>0.000000e+00</td>\n",
       "      <td>Condition 2</td>\n",
       "      <td>0.0</td>\n",
       "      <td>0.0</td>\n",
       "      <td>0.16675</td>\n",
       "      <td>0.120471</td>\n",
       "      <td>0.046279</td>\n",
       "      <td>0.479986</td>\n",
       "      <td>0.000000</td>\n",
       "    </tr>\n",
       "    <tr>\n",
       "      <th>2018-10-06 22:51:15.360342</th>\n",
       "      <td>142.854267</td>\n",
       "      <td>5</td>\n",
       "      <td>-1.124488e-03</td>\n",
       "      <td>Condition 2</td>\n",
       "      <td>0.0</td>\n",
       "      <td>0.0</td>\n",
       "      <td>0.16675</td>\n",
       "      <td>0.119511</td>\n",
       "      <td>0.047239</td>\n",
       "      <td>0.479954</td>\n",
       "      <td>0.000032</td>\n",
       "    </tr>\n",
       "  </tbody>\n",
       "</table>\n",
       "</div>"
      ],
      "text/plain": [
       "                                  time  day         value    condition  dS_f  \\\n",
       "2018-10-01 00:00:00.000000    0.000000    0 -5.483440e-06  Condition 2   0.0   \n",
       "2018-10-02 15:56:04.656292   39.934627    1 -6.148128e-07  Condition 2   0.0   \n",
       "2018-10-02 23:05:07.666605   47.085463    1 -2.145803e-04  Condition 2   0.0   \n",
       "2018-10-05 07:16:20.658723  103.272405    4  0.000000e+00  Condition 2   0.0   \n",
       "2018-10-06 22:51:15.360342  142.854267    5 -1.124488e-03  Condition 2   0.0   \n",
       "\n",
       "                            S_f      S_s      S_sc      S_sf       S_b  \\\n",
       "2018-10-01 00:00:00.000000  0.0  0.16675  0.120894  0.045856  0.480000   \n",
       "2018-10-02 15:56:04.656292  0.0  0.16675  0.120833  0.045917  0.479998   \n",
       "2018-10-02 23:05:07.666605  0.0  0.16675  0.120471  0.046279  0.479986   \n",
       "2018-10-05 07:16:20.658723  0.0  0.16675  0.120471  0.046279  0.479986   \n",
       "2018-10-06 22:51:15.360342  0.0  0.16675  0.119511  0.047239  0.479954   \n",
       "\n",
       "                              Hs_out  \n",
       "2018-10-01 00:00:00.000000  0.000000  \n",
       "2018-10-02 15:56:04.656292  0.000002  \n",
       "2018-10-02 23:05:07.666605  0.000012  \n",
       "2018-10-05 07:16:20.658723  0.000000  \n",
       "2018-10-06 22:51:15.360342  0.000032  "
      ]
     },
     "execution_count": 15,
     "metadata": {},
     "output_type": "execute_result"
    }
   ],
   "source": [
    "df_storage.head()"
   ]
  },
  {
   "cell_type": "code",
   "execution_count": 16,
   "metadata": {},
   "outputs": [],
   "source": [
    "df4 = df_storage.resample('D').mean().fillna(method='ffill')\n",
    "df4['day'] = np.arange(0, len(df4), 1)"
   ]
  },
  {
   "cell_type": "code",
   "execution_count": 17,
   "metadata": {},
   "outputs": [
    {
     "data": {
      "image/png": "[encoded data removed]",
      "text/plain": [
       "<Figure size 504x360 with 1 Axes>"
      ]
     },
     "metadata": {
      "needs_background": "light"
     },
     "output_type": "display_data"
    }
   ],
   "source": [
    "fig3, ax3 = plt.subplots(figsize=(7,5))\n",
    "df4.plot(y='S_f', ax=ax3, color = 'k', legend=False)\n",
    "plt.xlabel('Date', fontweight='bold', fontsize=14)\n",
    "plt.ylabel(r'Fine sediment storage $(m)$', fontweight='bold', fontsize=14)\n",
    "plt.title('Fine sediment storage', fontweight='bold', fontsize=16)\n",
    "plt.tight_layout()\n",
    "plt.show()\n",
    "\n",
    "#Use mm"
   ]
  },
  {
   "cell_type": "code",
   "execution_count": 18,
   "metadata": {},
   "outputs": [],
   "source": [
    "df5 = df_storage.resample('H').mean().fillna(method='ffill')\n",
    "df5['hour'] = np.arange(0, len(df5), 1)"
   ]
  },
  {
   "cell_type": "code",
   "execution_count": 19,
   "metadata": {},
   "outputs": [
    {
     "data": {
      "image/png": "[encoded data removed]",
      "text/plain": [
       "<Figure size 504x360 with 1 Axes>"
      ]
     },
     "metadata": {
      "needs_background": "light"
     },
     "output_type": "display_data"
    }
   ],
   "source": [
    "fig4, ax4 = plt.subplots(figsize=(7,5))\n",
    "df5.plot(y='S_s', ax=ax4, color = 'k', legend=False)\n",
    "plt.xlabel('Date', fontweight='bold', fontsize=14)\n",
    "plt.ylabel(r'Sediment surfacing storage $(m)$', fontweight='bold', fontsize=14)\n",
    "plt.title('Sediment surfacing storage', fontweight='bold', fontsize=16)\n",
    "plt.tight_layout()\n",
    "plt.show()"
   ]
  },
  {
   "cell_type": "code",
   "execution_count": 20,
   "metadata": {},
   "outputs": [
    {
     "data": {
      "image/png": "[encoded data removed]",
      "text/plain": [
       "<Figure size 504x360 with 1 Axes>"
      ]
     },
     "metadata": {
      "needs_background": "light"
     },
     "output_type": "display_data"
    }
   ],
   "source": [
    "fig5, ax5 = plt.subplots(figsize=(7,5))\n",
    "df5.plot(y='S_sc', ax=ax5, color = 'k', legend=False)\n",
    "plt.xlabel('Date', fontweight='bold', fontsize=14)\n",
    "plt.ylabel(r'Sediment surfacing coarse storage $(m)$', fontweight='bold', fontsize=14)\n",
    "plt.title('Sediment surfacing coarse storage', fontweight='bold', fontsize=16)\n",
    "plt.tight_layout()\n",
    "plt.show()"
   ]
  },
  {
   "cell_type": "code",
   "execution_count": 21,
   "metadata": {},
   "outputs": [
    {
     "data": {
      "image/png": "[encoded data removed]",
      "text/plain": [
       "<Figure size 504x360 with 1 Axes>"
      ]
     },
     "metadata": {
      "needs_background": "light"
     },
     "output_type": "display_data"
    }
   ],
   "source": [
    "fig6, ax6 = plt.subplots(figsize=(7,5))\n",
    "df5.plot(y='S_sf', ax=ax6, color = 'k', legend=False)\n",
    "plt.xlabel('Date', fontweight='bold', fontsize=14)\n",
    "plt.ylabel(r'Sediment surfacing fine storage $(m)$', fontweight='bold', fontsize=14)\n",
    "plt.title('Sediment surfacing fine storage', fontweight='bold', fontsize=16)\n",
    "plt.tight_layout()\n",
    "plt.show()"
   ]
  },
  {
   "cell_type": "code",
   "execution_count": 22,
   "metadata": {},
   "outputs": [
    {
     "data": {
      "image/png": "[encoded data removed]",
      "text/plain": [
       "<Figure size 504x360 with 1 Axes>"
      ]
     },
     "metadata": {
      "needs_background": "light"
     },
     "output_type": "display_data"
    }
   ],
   "source": [
    "fig7, ax7 = plt.subplots(figsize=(7,5))\n",
    "df5.plot(y='S_b', ax=ax7, color = 'k', legend=False)\n",
    "plt.xlabel('Date', fontweight='bold', fontsize=14)\n",
    "plt.ylabel(r'Ballast storage $(m)$', fontweight='bold', fontsize=14)\n",
    "plt.title('Ballast storage', fontweight='bold', fontsize=16)\n",
    "plt.tight_layout()\n",
    "plt.show()"
   ]
  },
  {
   "cell_type": "code",
   "execution_count": 23,
   "metadata": {},
   "outputs": [
    {
     "data": {
      "image/png": "[encoded data removed]",
      "text/plain": [
       "<Figure size 504x360 with 1 Axes>"
      ]
     },
     "metadata": {
      "needs_background": "light"
     },
     "output_type": "display_data"
    }
   ],
   "source": [
    "fig8, ax8 = plt.subplots(figsize=(7,5))\n",
    "sed_cumsum_kg_m = df_storage.Hs_out*rho_s #annual time step of sediment load\n",
    "sed_cumsum_kg_m.plot(ax=ax8, color = 'm', legend=False)\n",
    "plt.xlabel('Date', fontweight='bold', fontsize=14)\n",
    "plt.ylabel(r'Cumulative sediment load $(kg/m)$', fontweight='bold', fontsize=14)\n",
    "plt.title('Sediment load per meter of road', fontweight='bold', fontsize=16)\n",
    "plt.tight_layout()\n",
    "plt.show()"
   ]
  },
  {
   "cell_type": "code",
   "execution_count": 24,
   "metadata": {},
   "outputs": [
    {
     "data": {
      "text/plain": [
       "46.36627744303921"
      ]
     },
     "execution_count": 24,
     "metadata": {},
     "output_type": "execute_result"
    }
   ],
   "source": [
    "sed_sum_m2 = df_storage.Hs_out.sum()\n",
    "sed_sum_kg_m = sed_sum_m2*rho_s\n",
    "sed_sum_kg_m"
   ]
  },
  {
   "cell_type": "code",
   "execution_count": 25,
   "metadata": {},
   "outputs": [],
   "source": [
    "s = (df_storage.S_s[0]-df_storage.S_s[len(df_storage)-1])"
   ]
  },
  {
   "cell_type": "code",
   "execution_count": 26,
   "metadata": {},
   "outputs": [],
   "source": [
    "b = (df_storage.S_b[0]-df_storage.S_b[len(df_storage)-1])"
   ]
  },
  {
   "cell_type": "code",
   "execution_count": 27,
   "metadata": {},
   "outputs": [],
   "source": [
    "f = (df_storage.S_f[0]-df_storage.S_f[len(df_storage)-1])"
   ]
  },
  {
   "cell_type": "code",
   "execution_count": 28,
   "metadata": {},
   "outputs": [
    {
     "data": {
      "text/plain": [
       "46.36627744303802"
      ]
     },
     "execution_count": 28,
     "metadata": {},
     "output_type": "execute_result"
    }
   ],
   "source": [
    "(s+b+f)*rho_s"
   ]
  },
  {
   "cell_type": "code",
   "execution_count": 29,
   "metadata": {},
   "outputs": [
    {
     "data": {
      "text/plain": [
       "714"
      ]
     },
     "execution_count": 29,
     "metadata": {},
     "output_type": "execute_result"
    }
   ],
   "source": [
    "len(df_storage)"
   ]
  },
  {
   "cell_type": "code",
   "execution_count": null,
   "metadata": {},
   "outputs": [],
   "source": []
  }
 ],
 "metadata": {
  "kernelspec": {
   "display_name": "Python 3",
   "language": "python",
   "name": "python3"
  },
  "language_info": {
   "codemirror_mode": {
    "name": "ipython",
    "version": 3
   },
   "file_extension": ".py",
   "mimetype": "text/x-python",
   "name": "python",
   "nbconvert_exporter": "python",
   "pygments_lexer": "ipython3",
   "version": "3.7.3"
  }
 },
 "nbformat": 4,
 "nbformat_minor": 2
}
