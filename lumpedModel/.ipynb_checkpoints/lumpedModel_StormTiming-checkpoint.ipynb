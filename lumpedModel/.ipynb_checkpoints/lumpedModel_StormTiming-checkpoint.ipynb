{
 "cells": [
  {
   "cell_type": "markdown",
   "metadata": {},
   "source": [
    "# Let's think about fines storage.  \n",
    "Amanda Manaster  \n",
    "*2019.06.13*  \n",
    "\n",
    "\n",
    "$dS_f = max(u*n*A - q_s*t_s, 0)$\n",
    "\n",
    "**where:**  \n",
    "    &emsp;$S_f$ = storage of fine sediment in $m^3$  \n",
    "    &emsp;$u$ = pumping of fines w/ each truck pass; $0.05 mm$  \n",
    "    &emsp;$n$ = # of truck passes; constant   \n",
    "    &emsp;$A$ = representative area of road in $m^2$  \n",
    "    &emsp;$t_s$ = storm duration in $s$  \n",
    "    &emsp;$q_s$ = mean rate of sediment transport during a storm, assuming steady-state runoff in $m^2/s$   \n",
    "    \n",
    "       \n",
    "**Gover's equation (Istanbulluoglu et al. 2003):**  \n",
    "    &emsp;$q_s = \\frac{10^{-4.348}}{(\\rho_s*d_{50}^{0.811})}*(\\tau-\\tau_c)^{2.457}$  \n",
    "    \n",
    "    *Note: This equation is calibrated for sediments that are between 0.058 and 1.098 mm.*  \n",
    "\n",
    "**more variables:**  \n",
    "    &emsp;$\\tau$ = shear stress; $\\rho_w*g*H*S$  \n",
    "    &emsp;$\\tau_c$ = critical shear stress  \n",
    "    &emsp;$\\rho_w$ = density of water; $1000 kg/m^3$  \n",
    "    &emsp;$g$ = gravity; $9.81 m/s^2$  \n",
    "    &emsp;$H$ = depth of water; $r*t_s$  \n",
    "    &emsp;$S$ = slope  \n",
    "    &emsp;$\\rho_s$ = density of sediment; $2650 kg/m^3$  \n",
    "    &emsp;$r$ = runoff rate in $m/s$  \n",
    "    &emsp;$d_{50}$ = median grain size of fines  \n",
    "   "
   ]
  },
  {
   "cell_type": "code",
   "execution_count": null,
   "metadata": {},
   "outputs": [],
   "source": [
    "%matplotlib inline\n",
    "\n",
    "import numpy as np\n",
    "import matplotlib.pyplot as plt\n",
    "import pandas as pd\n",
    "from datetime import datetime, timedelta"
   ]
  },
  {
   "cell_type": "code",
   "execution_count": null,
   "metadata": {},
   "outputs": [],
   "source": [
    "A = 3.66\n",
    "S = 0.058\n",
    "time = 0 \n",
    "n = 0\n",
    "r = 0\n",
    "month = []\n",
    "H = []\n",
    "t = []\n",
    "len_s = []\n",
    "\n",
    "model_duration = np.linspace(0,179,180)\n",
    "model_end = 4320 #hours"
   ]
  },
  {
   "cell_type": "code",
   "execution_count": null,
   "metadata": {},
   "outputs": [],
   "source": [
    "while time < model_end:\n",
    "    T_b = np.random.uniform(12,240)\n",
    "    T_r = np.random.exponential(1.7)\n",
    "    r = np.random.uniform(10,25)\n",
    "    n += 20\n",
    "    \n",
    "    len_s.append(T_r)\n",
    "    H.append(T_r*r)\n",
    "    t.append(time)\n",
    "    \n",
    "    time += T_b + T_r"
   ]
  },
  {
   "cell_type": "code",
   "execution_count": null,
   "metadata": {},
   "outputs": [],
   "source": [
    "df = pd.DataFrame()\n",
    "\n",
    "df['time'] = t\n",
    "df['day'] = np.divide(t,24).astype('int64')\n",
    "df['water_depth'] = H\n",
    "df['storm_length'] = len_s\n",
    "\n",
    "day0 = datetime(2018, 10, 1)\n",
    "df.set_index(pd.DatetimeIndex([day0+timedelta(hours=time) for time in df.time]), inplace=True)\n",
    "\n",
    "df.head()"
   ]
  },
  {
   "cell_type": "code",
   "execution_count": null,
   "metadata": {},
   "outputs": [],
   "source": [
    "df2 = df.resample('D').mean().fillna(0)\n",
    "df2['day'] = np.arange(0, len(df2), 1)\n",
    "df2.head()"
   ]
  },
  {
   "cell_type": "code",
   "execution_count": null,
   "metadata": {},
   "outputs": [],
   "source": [
    "ticklabels = [item.strftime('%b %d') for item in df2.index[::10]]\n",
    "fig, ax = plt.subplots(figsize=(12,9))\n",
    "df2.plot.bar(y='water_depth', ax=ax, legend=False)\n",
    "plt.xlabel('Date')\n",
    "plt.ylabel('Water depth (mm)')\n",
    "plt.xticks(np.arange(0,10*len(ticklabels),10), ticklabels, rotation=35)\n",
    "plt.show()"
   ]
  },
  {
   "cell_type": "code",
   "execution_count": null,
   "metadata": {},
   "outputs": [],
   "source": []
  }
 ],
 "metadata": {
  "kernelspec": {
   "display_name": "Python 3",
   "language": "python",
   "name": "python3"
  },
  "language_info": {
   "codemirror_mode": {
    "name": "ipython",
    "version": 3
   },
   "file_extension": ".py",
   "mimetype": "text/x-python",
   "name": "python",
   "nbconvert_exporter": "python",
   "pygments_lexer": "ipython3",
   "version": "3.7.3"
  }
 },
 "nbformat": 4,
 "nbformat_minor": 2
}
