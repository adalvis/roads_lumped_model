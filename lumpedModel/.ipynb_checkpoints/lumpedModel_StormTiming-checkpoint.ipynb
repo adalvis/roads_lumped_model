{
 "cells": [
  {
   "cell_type": "markdown",
   "metadata": {},
   "source": [
    "# Let's think about fines storage.  \n",
    "Amanda Manaster  \n",
    "*2019.06.13*  \n",
    "\n",
    "**Condition 1:**  \n",
    "Amount of entering sediment is *greater than* amount of exiting sediment.  \n",
    "\n",
    "$dS_{f_{i}} = u*n*L - q_s*t_s$  \n",
    "$S_{f_{i+1}} = S_{f_{i}} + dS_{f_{i}}$  \n",
    "\n",
    "\n",
    "**Condition 2:**  \n",
    "Amount of entering sediment is *less than* amount of exiting sediment.  \n",
    "\n",
    "$q_{s_{out}} = min(u*n*L + S_{f_i}, q_s*t_s)$  \n",
    "$ dS_{f_i} = u*n*L - q_{s_{out}}$  \n",
    "$S_{f_{i+1}} = S_{f_{i}} + dS_{f_{i}}$  \n",
    "\n",
    "\n",
    "\n",
    "**where:**  \n",
    "    &emsp;$S_f$ = storage of fine sediment in $m^3$  \n",
    "    &emsp;$u$ = pumping of fines w/ each truck pass; $0.05 mm$  \n",
    "    &emsp;$n$ = # of truck passes; constant   \n",
    "    &emsp;$L$ = representative length of road in $m$  \n",
    "    &emsp;$t_s$ = storm duration in $s$  \n",
    "    &emsp;$q_s$ = mean rate of sediment transport during a storm, assuming steady-state runoff in $m^2/s$   \n",
    "    \n",
    "       \n",
    "**Gover's equation (Istanbulluoglu et al. 2003):**  \n",
    "    &emsp;$q_s = \\frac{10^{-4.348}}{(\\rho_s*d_{50}^{0.811})}*(\\tau-\\tau_c)^{2.457}$  \n",
    "    \n",
    "    *Note: This equation is calibrated for sediments that are between 0.058 and 1.098 mm.*  \n",
    "\n",
    "**more variables:**  \n",
    "    &emsp;$\\tau$ = shear stress; $\\rho_w*g*H*S$  \n",
    "    &emsp;$\\tau_c$ = critical shear stress  \n",
    "    &emsp;$\\rho_w$ = density of water; $1000 kg/m^3$  \n",
    "    &emsp;$g$ = gravity; $9.81 m/s^2$  \n",
    "    &emsp;$H$ = depth of water; $r*t_s$  \n",
    "    &emsp;$S$ = slope  \n",
    "    &emsp;$\\rho_s$ = density of sediment; $2650 kg/m^3$  \n",
    "    &emsp;$r$ = runoff rate in $m/s$  \n",
    "    &emsp;$d_{50}$ = median grain size of fines  \n",
    "   "
   ]
  },
  {
   "cell_type": "markdown",
   "metadata": {},
   "source": [
    "First, we'll import the necessary Python packages."
   ]
  },
  {
   "cell_type": "code",
   "execution_count": 1,
   "metadata": {},
   "outputs": [],
   "source": [
    "%matplotlib inline\n",
    "\n",
    "import numpy as np\n",
    "import matplotlib.pyplot as plt\n",
    "import pandas as pd\n",
    "from datetime import datetime, timedelta"
   ]
  },
  {
   "cell_type": "markdown",
   "metadata": {},
   "source": [
    "Then, we'll initialize constants and empty lists."
   ]
  },
  {
   "cell_type": "code",
   "execution_count": 2,
   "metadata": {},
   "outputs": [],
   "source": [
    "L = 3.66\n",
    "time = 0 \n",
    "n = 0\n",
    "r = 0\n",
    "month = []\n",
    "H = []\n",
    "t = []\n",
    "len_s = []\n",
    "truck_pass = []\n",
    "\n",
    "model_duration = np.linspace(0,179,180)\n",
    "model_end = 4320 #hours"
   ]
  },
  {
   "cell_type": "markdown",
   "metadata": {},
   "source": [
    "Now we can run our model. We calculate a \"recovery\" time, $T_b$, (i.e., the time between two storms) and a \"storm\" time, $T_r$, (i.e., the length of a storm.) $T_b$ is randomly generated from a uniform distribution spanning 12 to 240 hours. $T_r$ is randomly generated from an exponential distribution centered around 1.7 hours which is the average length of a storm in the PNW assuming:  \n",
    "\n",
    "$\\bar{T_r} = \\frac{\\bar{P}}{n_s * \\bar{i}}$  \n",
    "\n",
    "where:  \n",
    "&emsp;$\\bar{P} = 2540$ mm  \n",
    "&emsp;$n_s = 100$ storms  \n",
    "&emsp;$\\bar{i} = 15$ mm/hr  \n",
    "\n",
    "The model time step is $T_b + T_r$ which causes the time step to change during each loop.\n",
    "\n",
    "Additionally, a rainfall intensity, $r$, is randomly sampled from a uniform distribution spanning 10 to 25 mm/hr, and each loop of the model appends a constant number of truck passes to an originally empty list."
   ]
  },
  {
   "cell_type": "code",
   "execution_count": 3,
   "metadata": {},
   "outputs": [],
   "source": [
    "while time < model_end:\n",
    "    T_b = np.random.uniform(12,240)\n",
    "    T_r = np.random.exponential(1.7)\n",
    "    r = np.random.uniform(10,25)\n",
    "    n = 20\n",
    "    \n",
    "    len_s.append(T_r)\n",
    "    H.append(T_r*r)\n",
    "    t.append(time)\n",
    "    truck_pass.append(n)\n",
    "    \n",
    "    time += T_b + T_r"
   ]
  },
  {
   "cell_type": "markdown",
   "metadata": {},
   "source": [
    "Because we have so many lists/arrays to work with, I create a Pandas dataframe for future calculations and visualizations with these data."
   ]
  },
  {
   "cell_type": "code",
   "execution_count": 4,
   "metadata": {},
   "outputs": [
    {
     "data": {
      "text/html": [
       "<div>\n",
       "<style scoped>\n",
       "    .dataframe tbody tr th:only-of-type {\n",
       "        vertical-align: middle;\n",
       "    }\n",
       "\n",
       "    .dataframe tbody tr th {\n",
       "        vertical-align: top;\n",
       "    }\n",
       "\n",
       "    .dataframe thead th {\n",
       "        text-align: right;\n",
       "    }\n",
       "</style>\n",
       "<table border=\"1\" class=\"dataframe\">\n",
       "  <thead>\n",
       "    <tr style=\"text-align: right;\">\n",
       "      <th></th>\n",
       "      <th>time</th>\n",
       "      <th>day</th>\n",
       "      <th>water_depth</th>\n",
       "      <th>storm_length</th>\n",
       "      <th>truck_pass</th>\n",
       "    </tr>\n",
       "  </thead>\n",
       "  <tbody>\n",
       "    <tr>\n",
       "      <th>2018-10-01 00:00:00.000000</th>\n",
       "      <td>0.000000</td>\n",
       "      <td>0</td>\n",
       "      <td>9.945496</td>\n",
       "      <td>0.519602</td>\n",
       "      <td>20</td>\n",
       "    </tr>\n",
       "    <tr>\n",
       "      <th>2018-10-05 17:04:07.825286</th>\n",
       "      <td>113.068840</td>\n",
       "      <td>4</td>\n",
       "      <td>10.537175</td>\n",
       "      <td>0.494543</td>\n",
       "      <td>20</td>\n",
       "    </tr>\n",
       "    <tr>\n",
       "      <th>2018-10-13 16:38:33.211554</th>\n",
       "      <td>304.642559</td>\n",
       "      <td>12</td>\n",
       "      <td>12.864256</td>\n",
       "      <td>1.036546</td>\n",
       "      <td>20</td>\n",
       "    </tr>\n",
       "    <tr>\n",
       "      <th>2018-10-15 12:56:03.704686</th>\n",
       "      <td>348.934362</td>\n",
       "      <td>14</td>\n",
       "      <td>17.455868</td>\n",
       "      <td>1.180261</td>\n",
       "      <td>20</td>\n",
       "    </tr>\n",
       "    <tr>\n",
       "      <th>2018-10-22 15:56:21.216228</th>\n",
       "      <td>519.939227</td>\n",
       "      <td>21</td>\n",
       "      <td>10.975453</td>\n",
       "      <td>0.649584</td>\n",
       "      <td>20</td>\n",
       "    </tr>\n",
       "  </tbody>\n",
       "</table>\n",
       "</div>"
      ],
      "text/plain": [
       "                                  time  day  water_depth  storm_length  \\\n",
       "2018-10-01 00:00:00.000000    0.000000    0     9.945496      0.519602   \n",
       "2018-10-05 17:04:07.825286  113.068840    4    10.537175      0.494543   \n",
       "2018-10-13 16:38:33.211554  304.642559   12    12.864256      1.036546   \n",
       "2018-10-15 12:56:03.704686  348.934362   14    17.455868      1.180261   \n",
       "2018-10-22 15:56:21.216228  519.939227   21    10.975453      0.649584   \n",
       "\n",
       "                            truck_pass  \n",
       "2018-10-01 00:00:00.000000          20  \n",
       "2018-10-05 17:04:07.825286          20  \n",
       "2018-10-13 16:38:33.211554          20  \n",
       "2018-10-15 12:56:03.704686          20  \n",
       "2018-10-22 15:56:21.216228          20  "
      ]
     },
     "execution_count": 4,
     "metadata": {},
     "output_type": "execute_result"
    }
   ],
   "source": [
    "df = pd.DataFrame()\n",
    "\n",
    "df['time'] = t\n",
    "df['day'] = np.divide(t,24).astype('int64')\n",
    "df['water_depth'] = H\n",
    "df['storm_length'] = len_s\n",
    "df['truck_pass'] = truck_pass\n",
    "\n",
    "day0 = datetime(2018, 10, 1)\n",
    "df.set_index(pd.DatetimeIndex([day0+timedelta(hours=time) for time in df.time]), inplace=True)\n",
    "\n",
    "df.head()"
   ]
  },
  {
   "cell_type": "markdown",
   "metadata": {},
   "source": [
    "As discussed above, the model time step is variable. In order to have a daily time step instead, we resample the Pandas dataframe and give it a new name."
   ]
  },
  {
   "cell_type": "code",
   "execution_count": 5,
   "metadata": {},
   "outputs": [
    {
     "data": {
      "text/html": [
       "<div>\n",
       "<style scoped>\n",
       "    .dataframe tbody tr th:only-of-type {\n",
       "        vertical-align: middle;\n",
       "    }\n",
       "\n",
       "    .dataframe tbody tr th {\n",
       "        vertical-align: top;\n",
       "    }\n",
       "\n",
       "    .dataframe thead th {\n",
       "        text-align: right;\n",
       "    }\n",
       "</style>\n",
       "<table border=\"1\" class=\"dataframe\">\n",
       "  <thead>\n",
       "    <tr style=\"text-align: right;\">\n",
       "      <th></th>\n",
       "      <th>time</th>\n",
       "      <th>day</th>\n",
       "      <th>water_depth</th>\n",
       "      <th>storm_length</th>\n",
       "      <th>truck_pass</th>\n",
       "    </tr>\n",
       "  </thead>\n",
       "  <tbody>\n",
       "    <tr>\n",
       "      <th>2018-10-01</th>\n",
       "      <td>0.00000</td>\n",
       "      <td>0</td>\n",
       "      <td>9.945496</td>\n",
       "      <td>0.519602</td>\n",
       "      <td>20.0</td>\n",
       "    </tr>\n",
       "    <tr>\n",
       "      <th>2018-10-02</th>\n",
       "      <td>0.00000</td>\n",
       "      <td>1</td>\n",
       "      <td>0.000000</td>\n",
       "      <td>0.000000</td>\n",
       "      <td>0.0</td>\n",
       "    </tr>\n",
       "    <tr>\n",
       "      <th>2018-10-03</th>\n",
       "      <td>0.00000</td>\n",
       "      <td>2</td>\n",
       "      <td>0.000000</td>\n",
       "      <td>0.000000</td>\n",
       "      <td>0.0</td>\n",
       "    </tr>\n",
       "    <tr>\n",
       "      <th>2018-10-04</th>\n",
       "      <td>0.00000</td>\n",
       "      <td>3</td>\n",
       "      <td>0.000000</td>\n",
       "      <td>0.000000</td>\n",
       "      <td>0.0</td>\n",
       "    </tr>\n",
       "    <tr>\n",
       "      <th>2018-10-05</th>\n",
       "      <td>113.06884</td>\n",
       "      <td>4</td>\n",
       "      <td>10.537175</td>\n",
       "      <td>0.494543</td>\n",
       "      <td>20.0</td>\n",
       "    </tr>\n",
       "  </tbody>\n",
       "</table>\n",
       "</div>"
      ],
      "text/plain": [
       "                 time  day  water_depth  storm_length  truck_pass\n",
       "2018-10-01    0.00000    0     9.945496      0.519602        20.0\n",
       "2018-10-02    0.00000    1     0.000000      0.000000         0.0\n",
       "2018-10-03    0.00000    2     0.000000      0.000000         0.0\n",
       "2018-10-04    0.00000    3     0.000000      0.000000         0.0\n",
       "2018-10-05  113.06884    4    10.537175      0.494543        20.0"
      ]
     },
     "execution_count": 5,
     "metadata": {},
     "output_type": "execute_result"
    }
   ],
   "source": [
    "df2 = df.resample('D').mean().fillna(0)\n",
    "df2['day'] = np.arange(0, len(df2), 1)\n",
    "df2.head()"
   ]
  },
  {
   "cell_type": "markdown",
   "metadata": {},
   "source": [
    "Now, we can plot storm depth as a function of time for the entire 6 month time period."
   ]
  },
  {
   "cell_type": "code",
   "execution_count": 6,
   "metadata": {},
   "outputs": [
    {
     "data": {
      "image/png": "[encoded data removed]",
      "text/plain": [
       "<Figure size 864x648 with 1 Axes>"
      ]
     },
     "metadata": {
      "needs_background": "light"
     },
     "output_type": "display_data"
    }
   ],
   "source": [
    "ticklabels = [item.strftime('%b %d') for item in df2.index[::10]]\n",
    "fig, ax = plt.subplots(figsize=(12,9))\n",
    "df2.plot.bar(y='water_depth', ax=ax, legend=False)\n",
    "plt.xlabel('Date', fontweight='bold')\n",
    "plt.ylabel('Water depth (mm)', fontweight='bold')\n",
    "plt.title('Water depth from storm events over the rainy season', fontweight='bold')\n",
    "plt.xticks(np.arange(0,10*len(ticklabels),10), ticklabels, rotation=35)\n",
    "plt.show()"
   ]
  },
  {
   "cell_type": "code",
   "execution_count": null,
   "metadata": {},
   "outputs": [],
   "source": [
    "rho_w = 1000 #kg/m^3\n",
    "rho_s = 2650 #kg/m^3\n",
    "g = 9.81 #m/s^2\n",
    "S = 0.058\n",
    "tau_c = 0.110 #N/m^2; assuming d50 is approx. 0.0625 mm; value from https://pubs.usgs.gov/sir/2008/5093/table7.html\n",
    "d50 = 6.25e-5 #m\n",
    "u = 5.0e-5 #m\n",
    "\n",
    "df['shear_stress'] = rho_w*g*(df.water_depth*0.001)*S\n",
    "df.head()"
   ]
  },
  {
   "cell_type": "code",
   "execution_count": null,
   "metadata": {},
   "outputs": [],
   "source": [
    "df['q_s'] = ((10**(-4.348))/(rho_s*d50**(0.811)))*(df.shear_stress-tau_c)**(2.457)\n",
    "df.head()"
   ]
  },
  {
   "cell_type": "code",
   "execution_count": null,
   "metadata": {},
   "outputs": [],
   "source": [
    "df3 = df.resample('D').mean().fillna(0)\n",
    "df3['day'] = np.arange(0, len(df3), 1)\n",
    "df3.head()"
   ]
  },
  {
   "cell_type": "code",
   "execution_count": null,
   "metadata": {},
   "outputs": [],
   "source": [
    "fig2, ax2 = plt.subplots(figsize=(12,9))\n",
    "df3.plot(y='q_s', ax=ax2, legend=False)\n",
    "plt.xlabel('Date', fontweight='bold')\n",
    "plt.ylabel(r'Sediment transport rate $(m^2/s)$', fontweight='bold')\n",
    "plt.title('Sediment transport over the rainy season', fontweight='bold')\n",
    "plt.show()"
   ]
  },
  {
   "cell_type": "code",
   "execution_count": null,
   "metadata": {},
   "outputs": [],
   "source": [
    "sed_transp = df.storm_length*3600*df.q_s\n",
    "available_sed = u*df.truck_pass*L\n",
    "value = (available_sed-sed_transp)\n"
   ]
  },
  {
   "cell_type": "code",
   "execution_count": null,
   "metadata": {},
   "outputs": [],
   "source": []
  },
  {
   "cell_type": "code",
   "execution_count": null,
   "metadata": {},
   "outputs": [],
   "source": []
  }
 ],
 "metadata": {
  "kernelspec": {
   "display_name": "Python 3",
   "language": "python",
   "name": "python3"
  },
  "language_info": {
   "codemirror_mode": {
    "name": "ipython",
    "version": 3
   },
   "file_extension": ".py",
   "mimetype": "text/x-python",
   "name": "python",
   "nbconvert_exporter": "python",
   "pygments_lexer": "ipython3",
   "version": "3.6.8"
  }
 },
 "nbformat": 4,
 "nbformat_minor": 2
}
